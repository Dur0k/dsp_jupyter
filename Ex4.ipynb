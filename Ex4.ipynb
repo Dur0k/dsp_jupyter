{
 "cells": [
  {
   "cell_type": "markdown",
   "metadata": {},
   "source": [
    "%%html\n",
    "<style> table {display: block} </style> \n",
    "# Digital Signal Processing\n",
    "\n",
    "## Exercise 4\n",
    "\n",
    "### Part 1: Non-Recursive Filters\n",
    "\n",
    "#### Task 1: window functions\n",
    "In contrast to a recursive filter, whose design is based on the transformation of continuous time IIR-Systems to discrete time IIR-systems, the design of non recursive (FIT) systems is based on the approximation of the desired frequency response of the discrete time system. Due to their constant group delay, mostly _linear phase_ filters are applied, whose design is treated in the following text.\n",
    "\n",
    "FIR systems with linear phase are based on windowing with ideal low-pass-filters. To keep the linear phase constraint the window functions have to be symmetric.  \n",
    "The most common window functions are the so-called cosine windows, which have the following form:\n",
    "\n",
    "\\begin{equation*}\n",
    "f(k) = \\left\\{\n",
    "    \\begin{array}{l l}\t\n",
    "         a - b \\cdot \\textrm{cos}(\\frac{2\\pi k}{m})+c \\cdot \\textrm{cos}(\\frac{4\\pi k}{m}), & 0\\leq k \\leq m\\\\\n",
    "         0,  & \\text{else}\n",
    "    \\end{array}\\right.\\;.\n",
    "\\end{equation*}\n",
    "\n",
    "| **window**  | **python function** | **a** | **b** | **c** |\n",
    "|:------------|:--------------------|:-----:|:-----:|:-----:|\n",
    "| rectangular | rectwin             | 1.0   | 0.0   | 0.0   |\n",
    "| von Hann    | hanning             | 0.5   | 0.5   | 0.0   |\n",
    "| Hamming     | hamming             | 0.54  | 0.46  | 0.0   |\n",
    "| Blackman    | blackman            | 0.42  | 0.5   | 0.08  |\n",
    "\n",
    "Another window is the triangle- or Bartlett-window (`bartlett`).\n",
    "\n",
    "**a)** Calculate window types above for $m=21$ and $m=42$. Plot the signals in time domain as well as their time discrete fourier transform. Compare the different window types according to their pass-band attenuation, attenuation of the first overshot and stop-band attenuation.\n",
    "\n",
    "**b)** The Kaiser-window represents a flexible window, which is defined as follows:\n",
    "\n",
    "\\begin{equation*}\n",
    "f(k) = \\left\\{\n",
    "    \\begin{array}{l l}\t\n",
    "         \\frac{I_0 \\left[\\beta \\sqrt{1-(1-\\frac{2}{m}k)^2}\\right]}{I_0(\\beta)}, & 0\\leq k \\leq m\\\\\n",
    "         0,  & \\text{else}\n",
    "    \\end{array}\\right.\\;.\n",
    "\\end{equation*}\n",
    "\n",
    "Where $I_0(x)$ is a modified bessel function of the first kind, 0th order. The Python-function `kaiser(m,beta)` calculates this window. In contrast to the windows of task **1.a** the Kaiser window has two parameters: The length $m+1$ and a parameter $\\beta$ to affect the slope.\n",
    "\n",
    "By varying $m$ and $\\beta$ the length and the shape of the window may be varied to each a compromise between the amplitude of the first overshot and the width of the main maximum. Calculate the Kaiser window for $m=21$ and $\\beta = 0,3,6$. Calculate the respective spectra and plot them along with the time domain representation of the windows.\n"
   ]
  },
  {
   "cell_type": "code",
   "execution_count": 1,
   "metadata": {},
   "outputs": [],
   "source": [
    "import matplotlib.pyplot as plt\n",
    "import numpy as np\n",
    "# Your code goes here!\n",
    "# Variable names for Solution tester:\n"
   ]
  },
  {
   "cell_type": "code",
   "execution_count": 3,
   "metadata": {},
   "outputs": [],
   "source": [
    "# Solution tester\n",
    "# This cell will check if your variables and vectors are correct.\n",
    "#from functions import Ex4_test\n",
    "#Ex1_test.exercise2(k, x)"
   ]
  },
  {
   "cell_type": "markdown",
   "metadata": {},
   "source": [
    "#### Task 2: design of non recursive filters using windowing techniques\n",
    "The complete filter design by windowing an impulse response of a time shifted, ideal low pass filter is implemented in Python-function `fir1()`.\n",
    "\n",
    "Calling `b=fir(m,Wn)` generates $m+1$ filter coefficients of a low-pass with order `m` and cut-off frequency `Wn`. The function call `b=fir1(m,Wn.'high')` yields the corresponding high pass with a cut-off frequency `Wn`.\n",
    "\n",
    "`b=fir1(m,[Wn1 Wn2])` yields a pass-band filter with cut-off frequencies `Wn1` and `Wn2`. The Hamming-Window will be used as a _default_. In addition the last parameter may be a vector with samples of an arbitrary window function: `b=fir1(m,Wn,window)`. This vector has to over $m+1$ samples.\n",
    "\n",
    "**a)** Design a low-pass filter by setting `m=50` and `Wn=0.4`. Compare the absolute value of the spectrum for different window functions.\n",
    "\n",
    "**b)** Design a high-pass filter of order `m=33` and cut-off frequency `Wn=0.4` using the Python-Function `fir1()` (Hamming-Window). Why does Python generate a warning?\n",
    "\n",
    "**c)** Group delay and linearity of a system are closely connected. Calculate the group delay of the low-pass filter of task **2.a** (Hamming-Window). Use Pythons function `grpdelay()`."
   ]
  },
  {
   "cell_type": "code",
   "execution_count": null,
   "metadata": {},
   "outputs": [],
   "source": [
    "import matplotlib.pyplot as plt\n",
    "import numpy as np\n",
    "# Your code goes here!\n",
    "# Variable names for Solution tester:\n"
   ]
  },
  {
   "cell_type": "code",
   "execution_count": 4,
   "metadata": {},
   "outputs": [],
   "source": [
    "# Solution tester\n",
    "# This cell will check if your variables and vectors are correct.\n",
    "#from functions import Ex4_test\n",
    "#Ex1_test.exercise2(k, x)"
   ]
  },
  {
   "cell_type": "markdown",
   "metadata": {},
   "source": [
    "#### Task 3: remez design (Chebyshev-approximation)\n",
    "\n",
    "By designing IIR-Filters using Chebyshev-approximation, it was shown that this approximation delivers a great benefit because it utilizes the whole tolerance scheme. Such a design method (applying a Chebyshev-approximation) for FIR-Systems is implemented in Python's `firpm()`-function (Parks-McClellan-algorithm). The approximation takes place in pass- and stop-band.  \n",
    "The call of `b=firpm(m,F,G)` designs a `m`-th order filter, whose specification is given by vectors `F` and `G`.  \n",
    "`F` includes a pair of frequencies (between 0 and 1), to set the pass or stop-bands and `G` is the frequency response (amplitude) corresponding to `F`.\n",
    "von\n",
    "Example: `F = [0 0.3 0.5 1] G = [1 1 0 0]`\n",
    "\n",
    "<img src=\"functions/img/remez.png\" width=\"500\">\n",
    "\n",
    "**a)** Calculate a filter with above frequency response. Experiment with different orders and count the number of extrema within the approximation interval.\n",
    "\n",
    "**b)** The call `b=firpm(m,F,G,W)` weights a desired frequency response where frequency bands with a lower weight are less accurately approximated than frequency bands with a higher weight. The number of weight within vector `W` is half the number of entries in `F` resp. `G` (for each frequency band one weighting factor).\n",
    "\n",
    "The frequency band between 0.0 and 0.3 (pass-band) doesn't have to approximate the desired frequency response very closely. A higher weight should be used for the frequency band between 0.5 and 1. Calculate the filter again and compare the frequency response with the filter designed in task **3.a**.\n",
    "\n",
    "**c)** Design the low-pass - high-pass combination as specified below, where the passbands should have a (by factor 4) higher weight than the stop-bands:\n",
    "\n",
    "\\begin{equation*}\n",
    "\\begin{array}{l l l l}\t\n",
    "         \\textrm{passband 1:} & 0 - 0.2 & \\textrm{stop band 1:} & 0.26 - 0.44\\\\\n",
    "         \\textrm{passband 2:} & 0.5 - 0.7 & \\textrm{stop band 2:} & 0.76 - 1\\\\\n",
    "         \\textrm{filter order } m: & 128 & &\n",
    "    \\end{array}\n",
    "\\end{equation*}\n"
   ]
  },
  {
   "cell_type": "code",
   "execution_count": 5,
   "metadata": {},
   "outputs": [],
   "source": [
    "import matplotlib.pyplot as plt\n",
    "import numpy as np\n",
    "# Your code goes here!\n",
    "# Variable names for Solution tester:\n"
   ]
  },
  {
   "cell_type": "code",
   "execution_count": 6,
   "metadata": {},
   "outputs": [],
   "source": [
    "# Solution tester\n",
    "# This cell will check if your variables and vectors are correct.\n",
    "#from functions import Ex4_test\n",
    "#Ex1_test.exercise2(k, x)"
   ]
  },
  {
   "cell_type": "markdown",
   "metadata": {},
   "source": [
    "#### Task 4: design of a differentiator\n",
    "**a)** The differentiation in time domain is equivalent to a multiplication with $j\\Omega$ in frequency domain.  \n",
    "The transfer function of an ideal differentiator is $H(e^{j\\Omega}) = j \\Omega$.  \n",
    "Design a differentiator of order 21 and 22 by using Python's function `firpm()` (see task **3**) and plot the absolute values of the transfer function as well as the impulse response of both designed differentiators. Which class of FIR-filters do these FIR-filters belong to[1]?\n",
    "\n",
    "**b)** As a _default_ function `firpm()` creates FIR-filters of type I and III, depending on whether the order is odd or even. Antisymmetric filters (type II and IV) may be designed by an additional argument to the function `firpm()`. For differentiators, this is done by using the string `d: b=firpm(m,F,G,'d')` (additionally an optimal weighting `W` may be applied). Design a differentiator of task **4.a** as a type II and IV and compare the absolute values of the transfer function and the impulse responses.\n",
    "\n",
    "[1]: Python uses a different classification schema to the one in the lecture and the book \"Digitale Signalverarbeitung\" by Kammeyer and Kroschel. Type II and type III are defined interchanged within Python.??????????????????"
   ]
  },
  {
   "cell_type": "code",
   "execution_count": 7,
   "metadata": {},
   "outputs": [],
   "source": [
    "import matplotlib.pyplot as plt\n",
    "import numpy as np\n",
    "# Your code goes here!\n",
    "# Variable names for Solution tester:\n"
   ]
  },
  {
   "cell_type": "code",
   "execution_count": null,
   "metadata": {},
   "outputs": [],
   "source": [
    "# Solution tester\n",
    "# This cell will check if your variables and vectors are correct.\n",
    "#from functions import Ex4_test\n",
    "#Ex1_test.exercise2(k, x)"
   ]
  }
 ],
 "metadata": {
  "celltoolbar": "Edit Metadata",
  "kernelspec": {
   "display_name": "Python 3",
   "language": "python",
   "name": "python3"
  },
  "language_info": {
   "codemirror_mode": {
    "name": "ipython",
    "version": 3
   },
   "file_extension": ".py",
   "mimetype": "text/x-python",
   "name": "python",
   "nbconvert_exporter": "python",
   "pygments_lexer": "ipython3",
   "version": "3.8.2"
  },
  "latex_envs": {
   "LaTeX_envs_menu_present": true,
   "autoclose": false,
   "autocomplete": true,
   "bibliofile": "biblio.bib",
   "cite_by": "apalike",
   "current_citInitial": 1,
   "eqLabelWithNumbers": true,
   "eqNumInitial": 1,
   "hotkeys": {
    "equation": "Ctrl-E",
    "itemize": "Ctrl-I"
   },
   "labels_anchors": false,
   "latex_user_defs": false,
   "report_style_numbering": false,
   "user_envs_cfg": false
  }
 },
 "nbformat": 4,
 "nbformat_minor": 2
}
