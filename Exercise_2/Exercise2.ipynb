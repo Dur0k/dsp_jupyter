{
 "cells": [
  {
   "cell_type": "markdown",
   "metadata": {},
   "source": [
    "# Digital Signal Processing\n",
    "\n",
    "## Exercise 2\n",
    "\n",
    "### 1. Spectrum Analysis of Deterministic Signals\n",
    "\n",
    "#### Exercise 1: DFT of real valued series\n",
    "When using the Discrete Fourier Transform (DFT) to transform a real valued series, the result contains redundancy: It is conjugate even.  \n",
    "This knowledge can be used to transform a real valued series $x_1(k)$ of length $2N$ using an $N$-Point-FFT.  \n",
    "Write a Python function, that uses these facts and show the correctness of this approach by comparing it with numpy's `fft()`-function.\n"
   ]
  },
  {
   "cell_type": "code",
   "execution_count": null,
   "metadata": {},
   "outputs": [],
   "source": [
    "import matplotlib.pyplot as plt\n",
    "import numpy as np\n",
    "# Your code goes here!\n",
    "# Variable names for Solution tester:"
   ]
  },
  {
   "cell_type": "markdown",
   "metadata": {
    "deletable": false,
    "editable": false
   },
   "source": [
    "#### Exercise 2: DFT: truncation error / sub-sampling\n",
    "Calculate the discrete fourier transform $X_i(n) = \\textrm{DFT}\\{x_i(k)\\}$ of the following series:\n",
    "\n",
    "\n",
    "\n",
    "\\begin{equation*}\n",
    "\\begin{array}{l l l l}\t\n",
    "         x_1(k) = \\textrm{sin}(k\\pi/8), & \\textrm{for } k = 0 \\ldots 7 & \\textrm{as well as} & k = 0 \\ldots 63\\\\\n",
    "         x_2(k) = \\textrm{sin}(k\\pi/2), & \\textrm{for } k = 0 \\ldots 7 & \\textrm{as well as} & k = 0 \\ldots 63\\\\\n",
    "         x_3(k) = \\textrm{sin}(k\\pi3/2), & \\textrm{for } k = 0 \\ldots 7 & \\textrm{as well as} & k = 0 \\ldots 63\\\\\n",
    "\\end{array}\n",
    "\\end{equation*}\n",
    "Use the `fft(x)`-function.  \n",
    "Plot the time domain signal $x_i(k)$, as well as the absolute values of the spectra $|X_i(n)|$ for both ranges of time indices.\n",
    "In which cases is the spectrum of the assocciated continuous sine-signal $x_i(t)$ reproduced exactly?"
   ]
  },
  {
   "cell_type": "code",
   "execution_count": 6,
   "metadata": {},
   "outputs": [],
   "source": [
    "import matplotlib.pyplot as plt\n",
    "import numpy as np\n",
    "# Your code goes here!\n",
    "# Variable names for Solution tester:\n",
    "# kk08, kk64, x1_08, x1_64, x2_08, x2_64, x3_08, x3_64\n"
   ]
  },
  {
   "cell_type": "code",
   "execution_count": 7,
   "metadata": {},
   "outputs": [
    {
     "name": "stdout",
     "output_type": "stream",
     "text": [
      "Incorrect length for kk64.\n",
      "Incorrect length for x1_64.\n",
      "Incorrect length for x2_64.\n",
      "Incorrect length for x3_64.\n"
     ]
    }
   ],
   "source": [
    "# Solution tester\n",
    "# This cell will check if your variables and vectors are correct.\n",
    "import solution_tester\n",
    "solution_tester.exercise2(kk08, kk64, x1_08, x1_64, x2_08, x2_64, x3_08, x3_64)"
   ]
  },
  {
   "cell_type": "markdown",
   "metadata": {
    "deletable": false,
    "editable": false
   },
   "source": [
    "#### Exercise 3: leakage reduction by windowing\n",
    "Plot the two times repeated continuation of the series  \n",
    "\n",
    "\\begin{equation*}\n",
    "\\begin{array}{l l l l}\t\n",
    "    x_1(k) = \\textrm{sin}(k\\pi/8) & \\textrm{and} &  x_2(k) = \\textrm{sin}(k\\pi/10) & \\textrm{for } k = 0 \\ldots 63,\\\\\n",
    "\\end{array}\n",
    "\\end{equation*}\n",
    "\n",
    "as well as the absolute value of their 64-Point FFT $X_i(n) = \\textrm{FFT}\\{x_i(k)\\}$.  \n",
    "Multiply the data series $x_i^{Hm}(k) := x_i(k) \\cdot f^{Hm}(k)$ with a 64-point Hamming-window $f^{Hm}(k)$ and again plot the two times repeated continuation of $x_i^{Hm}(k)$, as well as the absolute value of their 64-point-FFT $X_i^{Hm}(n)$.  \n",
    "What are the effects of Hamming-windowing on the absolute values of the coefficients of the FFT?  \n",
    "\n",
    "**Python Hints:**  \n",
    "```python\n",
    "x1_128 = np.append(x1,x1)                 # Append vector x1 to itself to a combined length of 128 samples\n",
    "x1hm = x1*np.hamming(N)                   # Multiplicate x1 with an Hamming window of length N\n",
    "```\n"
   ]
  },
  {
   "cell_type": "code",
   "execution_count": 3,
   "metadata": {},
   "outputs": [],
   "source": [
    "import matplotlib.pyplot as plt\n",
    "import numpy as np\n",
    "# Your code goes here!\n",
    "# Variable names for Solution tester:\n",
    "# kk, x1, x2"
   ]
  },
  {
   "cell_type": "code",
   "execution_count": null,
   "metadata": {},
   "outputs": [],
   "source": [
    "# Solution tester\n",
    "# This cell will check if your variables and vectors are correct.\n",
    "import solution_tester\n",
    "solution_tester.exercise3(kk, x1, x2)"
   ]
  },
  {
   "cell_type": "markdown",
   "metadata": {
    "deletable": false,
    "editable": false
   },
   "source": [
    "### 2. Discrete Fourier Transform\n",
    "#### Exercise 4: Overlap-add algorithm\n",
    "In this exercise the overlap-add-algorithm for fast convolution will be programmed. Its performance compared to the classical convolution scheme is analyzed.\n",
    "\n",
    "**a)** Write a function `ovladd(x,h)` to convolve the signal `x` with the impulse response `h` of a FIR-Filter using the fast convolution.  \n",
    "\n",
    "- Select the block size of the FFT to be a power of two `Nfft=2**p`, so that a Radix-2 FFT is used.[1]\n",
    "\n",
    "- Determine the order `m` of the FIR-filter `h` and calculate the length `L` of the blocks to be convolved, so that `Nfft=m + L`.\n",
    "\n",
    "- Determine the number `R` of blocks with length `L`, in which the vector `x` has to be splitted.[2]\n",
    "\n",
    "- Fill the column vector `x` with zeros and call the result `xz`, so that the number of blocks `R` is an integer (without rounding).\n",
    "\n",
    "- Calculate the system function `H` of the FIR-filter `h` using function `fft(h,Nfft)`. Parameter `Nfft` is responsible for a \"zero-padding\" up to an overall length of `Nfft`.\n",
    "\n",
    "- Copy the values of the extended vector `xz` to a matrix `xr`, so that this matrix contains `R` columns with `L` successive samples. Use `xr = np.reshape(x,L,R).T`.\n",
    "\n",
    "- Calculte the FFT for every column of `xr` with \"zero-padding\" to an overall length of `Nfft`. Use the property of the `fft()`-function to work on each column seperately. `Xr=np.fft.fft(xr,Nfft,axis=0)`\n",
    "\n",
    "- Multiply each column of `Xr` with the system function `H` and apply an `ifft` to each column.  Overlap the result of this IFFT, to get the convolved signal. (overlap-add)\n",
    "```python\n",
    "y = np.zeros(len(xz)+m, dtype=complex)\n",
    "for r in range(0,R):\n",
    "    y[L*r:Nfft+L*r] += np.fft.ifft(Xr[:,r]*H)\n",
    "```\n",
    "- Shorten the resulting signal `y` to the length, which you would have if you convolve `x` with the impulse response `h`.[3]\n",
    "\n",
    "[1] For the signals used later on, a block size of $\\textrm{Nfft} =2^{10}$ is advantageous.  \n",
    "[2] You may use the numpy function `ceil()`. This function rounds to the next integer number.  \n",
    "[3] Inside the overlapp-add-algorithm we have done \"zero padding\" to make the circular convolution aperiodic. Some of these zeros have to be cut off now.  \n",
    "\n",
    "**b)** Validate your newly created function `ovladd()`.\n",
    "Create a complex valued test signal `x=np.random.randn(10000)+1j*randn(10000)` of length 100000.  \n",
    "Further create analogous a column vector `h`, made of 256 complex valued random numbers. This vector should be the impulse response of a LTI system.  \n",
    "\n",
    "Compare the results of a convolution using function `conv` and the results you get using your function `ovladd`.  "
   ]
  },
  {
   "cell_type": "code",
   "execution_count": 4,
   "metadata": {},
   "outputs": [],
   "source": [
    "timport matplotlib.pyplot as plt\n",
    "import numpy as np\n",
    "# Your code goes here!\n",
    "# Variable names for Solution tester:"
   ]
  }
 ],
 "metadata": {
  "celltoolbar": "Edit Metadata",
  "kernelspec": {
   "display_name": "Python 3",
   "language": "python",
   "name": "python3"
  },
  "language_info": {
   "codemirror_mode": {
    "name": "ipython",
    "version": 3
   },
   "file_extension": ".py",
   "mimetype": "text/x-python",
   "name": "python",
   "nbconvert_exporter": "python",
   "pygments_lexer": "ipython3",
   "version": "3.8.2"
  },
  "latex_envs": {
   "LaTeX_envs_menu_present": true,
   "autoclose": false,
   "autocomplete": true,
   "bibliofile": "biblio.bib",
   "cite_by": "apalike",
   "current_citInitial": 1,
   "eqLabelWithNumbers": true,
   "eqNumInitial": 1,
   "hotkeys": {
    "equation": "Ctrl-E",
    "itemize": "Ctrl-I"
   },
   "labels_anchors": false,
   "latex_user_defs": false,
   "report_style_numbering": false,
   "user_envs_cfg": false
  }
 },
 "nbformat": 4,
 "nbformat_minor": 2
}
