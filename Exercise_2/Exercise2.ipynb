{
 "cells": [
  {
   "cell_type": "markdown",
   "metadata": {
    "deletable": false,
    "editable": false
   },
   "source": [
    "# Digital Signal Processing\n",
    "\n",
    "## Exercise 2\n",
    "\n",
    "### 1. Spectrum Analysis of Deterministic Signals\n",
    "\n",
    "#### Exercise 1: DFT of real valued series\n",
    "When using the Discrete Fourier Transform (DFT) to transform a real valued series, the result contains redundancy: It is conjugate even.  \n",
    "This knowledge can be used to transform a real valued series $x_1(k)$ of length $2N$ using an $N$-Point-FFT.  \n",
    "Write a Python function, that uses these facts and use the function to show the correctness of this approach.\n"
   ]
  },
  {
   "cell_type": "code",
   "execution_count": null,
   "metadata": {},
   "outputs": [],
   "source": [
    "import matplotlib.pyplot as plt\n",
    "import numpy as np\n",
    "# Your code goes here!\n",
    "# Variable names for Solution tester:"
   ]
  },
  {
   "cell_type": "code",
   "execution_count": 1,
   "metadata": {},
   "outputs": [
    {
     "ename": "ModuleNotFoundError",
     "evalue": "No module named 'solution_tester'",
     "output_type": "error",
     "traceback": [
      "\u001b[0;31m---------------------------------------------------------------------------\u001b[0m",
      "\u001b[0;31mModuleNotFoundError\u001b[0m                       Traceback (most recent call last)",
      "\u001b[0;32m<ipython-input-1-f3aca1aaf73e>\u001b[0m in \u001b[0;36m<module>\u001b[0;34m\u001b[0m\n\u001b[1;32m      1\u001b[0m \u001b[0;31m# Solution tester\u001b[0m\u001b[0;34m\u001b[0m\u001b[0;34m\u001b[0m\u001b[0;34m\u001b[0m\u001b[0m\n\u001b[1;32m      2\u001b[0m \u001b[0;31m# This cell will check if your variables and vectors are correct.\u001b[0m\u001b[0;34m\u001b[0m\u001b[0;34m\u001b[0m\u001b[0;34m\u001b[0m\u001b[0m\n\u001b[0;32m----> 3\u001b[0;31m \u001b[0;32mimport\u001b[0m \u001b[0msolution_tester\u001b[0m\u001b[0;34m\u001b[0m\u001b[0;34m\u001b[0m\u001b[0m\n\u001b[0m",
      "\u001b[0;31mModuleNotFoundError\u001b[0m: No module named 'solution_tester'"
     ]
    }
   ],
   "source": [
    "# Solution tester\n",
    "# This cell will check if your variables and vectors are correct.\n",
    "import solution_tester"
   ]
  },
  {
   "cell_type": "markdown",
   "metadata": {
    "deletable": false,
    "editable": false
   },
   "source": [
    "#### Exercise 2: DFT: truncation error / sub-sampling\n",
    "Calculate the discrete fourier transform $X_i(n) = \\textrm{DFT}\\{x_i(k)\\}$ of the following series:\n",
    "\n",
    "\n",
    "\n",
    "\\begin{equation*}\n",
    "\\begin{array}{l l l l}\t\n",
    "         x_1(k) = \\textrm{sin}(k\\pi/8), & \\textrm{for } k = 0 \\ldots 7 & \\textrm{as well as} & k = 0 \\ldots 63\\\\\n",
    "         x_2(k) = \\textrm{sin}(k\\pi/2), & \\textrm{for } k = 0 \\ldots 7 & \\textrm{as well as} & k = 0 \\ldots 63\\\\\n",
    "         x_3(k) = \\textrm{sin}(k\\pi3/2), & \\textrm{for } k = 0 \\ldots 7 & \\textrm{as well as} & k = 0 \\ldots 63\\\\\n",
    "\\end{array}\n",
    "\\end{equation*}\n",
    "Use the $\\text{fft}(x)$-function.  \n",
    "Plot the time domain signal $x_i(k)$, as well as the absolute values of the spectra $|X_i(n)|$ for both ranges of time indices.\n",
    "In which cases is the spectrum of the assocciated continuous sine-signal $x_i(t)$ reproduced exactly?"
   ]
  },
  {
   "cell_type": "code",
   "execution_count": 2,
   "metadata": {},
   "outputs": [],
   "source": [
    "import matplotlib.pyplot as plt\n",
    "import numpy as np\n",
    "# Your code goes here!\n",
    "# Variable names for Solution tester:"
   ]
  },
  {
   "cell_type": "code",
   "execution_count": null,
   "metadata": {},
   "outputs": [],
   "source": [
    "# Solution tester\n",
    "# This cell will check if your variables and vectors are correct.\n",
    "import solution_tester"
   ]
  },
  {
   "cell_type": "markdown",
   "metadata": {},
   "source": [
    "#### Exercise 3: leakage reduction by windowing\n",
    "Plot the two times repeated continuation of the series\n",
    "\\begin{equation*}\n",
    "\\begin{array}{l l l l}\t\n",
    "    x_1(k) = \\textrm{sin}(k\\pi/8) & \\textrm{and} &  x_2(k) = \\textrm{sin}(k\\pi/10) & \\textrm{for } k = 0 \\ldots 63,\\\\\n",
    "\\end{array}\n",
    "\\end{equation*}\n",
    "as well as the absolute value of their 64-Point FFT $X_i(n) = \\textrm{FFT}\\{x_i(k)\\}$.  \n",
    "Multiply the data series $x_i^{Hm}(k) := x_i(k) \\cdot f^{Hm}(k)$ with a 64-point Hamming-window $f^{Hm}(k)$ and again plot the two times repeated continuation of $x_i^{Hm}(k)$, as well as the absolute value of their 64-point-FFT $X_i^{Hm}(n)$.  \n",
    "What are the effects of Hamming-windowing on the absolute values of the coefficients of the FFT?  \n",
    "\n",
    "**Python Hints:**  \n",
    "```python\n",
    "stem(0:63,abs(fft(xi.*hamming(64).’))).\n",
    "```\n"
   ]
  },
  {
   "cell_type": "code",
   "execution_count": 3,
   "metadata": {},
   "outputs": [],
   "source": [
    "import matplotlib.pyplot as plt\n",
    "import numpy as np\n",
    "# Your code goes here!\n",
    "# Variable names for Solution tester:"
   ]
  },
  {
   "cell_type": "code",
   "execution_count": null,
   "metadata": {},
   "outputs": [],
   "source": [
    "# Solution tester\n",
    "# This cell will check if your variables and vectors are correct.\n",
    "import solution_tester"
   ]
  },
  {
   "cell_type": "markdown",
   "metadata": {},
   "source": [
    "### 2. Discrete Fourier Transform\n",
    "#### Exercise 4: Overlap-add algorithm\n",
    "In this exercise the overlap-add-algorithm for fast convolution will be programmed. Its performance compared to the classical convolution scheme is analyzed.\n",
    "\n",
    "**a)** Write a function `def y = ovladd(x,h)` to convolve the signal `x` with the impulse response `h` of a FIR-Filter using the fast convolution.  \n",
    "`x` and `h` should be column vectors.\n",
    "\n",
    "- Select the block size of the FFt to be a power of two `Nfft=2**p`, so that a Radix-2 FFT is used.\n",
    "- Determine the order `m` of the FIR-filter `h` and calculate the length `L` of the blocks to be convolved, so that `Nfft=m + L`.\n",
    "- Determine the number `R` of blocks with length `L`, in which the column vectors `x` has to be splitted.\n",
    "- Fill the column vector `x` with zeros and call the result `xz`, so that the number of blocks `R` is an integer (without rounding).\n",
    "- Calculate the system function `H` of the FIR-filter `h` using function `fft(h,Nfft)`. Parameter `Nfft` is responsible for a \"zero-padding\" up to an overall length of `Nfft`.\n",
    "- Copy the values of the extended vector `xz` to a matrix `xr`, so that this matrix contains `R` columns with `L` successive samples. Use `xr = reshape(x,L,R)`.\n",
    "- Calculte the FFT for every column of `xr` with \"zero-padding\" to an overall length of `Nfft`. Use the property of the `fft()`-function to work on each column seperately, `Xr=fft(xr,Nfft)`\n",
    "- Multiply each column of `Xr` with the system function `H` and apply an `ifft` to each column.  Overlap the result of this IFFT, to get the convolved signal. (overlap-add)\n",
    "```python\n",
    "y = zeros(length(xz)+m,1)\n",
    "for r=1:R\n",
    "    y((1:Nfft)+L*(r-1)) = y((1:Nfft)+L*(r-1))...\n",
    "            +ifft(Xr(:,r).*H,[],1)\n",
    "end\n",
    "```\n",
    "- Shorten the resulting signal `y` to the length, which you would have if you convolve `x` with the impulse response `h`.\n",
    "\n",
    "**b)** Validate your newly created function `ovladd()`.\n",
    "Create a complex valued test signal `x=randn(1e5,1)+j*randn(1e5,1)` (column vector) of length 100000.  \n",
    "Further create analogous a column vector `h`, made of 256 complex valued random numbers. This vector should be the impulse response of a LTI system.  \n",
    "\n",
    "Compare the results of a convolution using function `conv` and the results you get using your function `ovladd`."
   ]
  },
  {
   "cell_type": "code",
   "execution_count": 4,
   "metadata": {},
   "outputs": [],
   "source": [
    "import matplotlib.pyplot as plt\n",
    "import numpy as np\n",
    "# Your code goes here!\n",
    "# Variable names for Solution tester:"
   ]
  },
  {
   "cell_type": "code",
   "execution_count": 5,
   "metadata": {},
   "outputs": [],
   "source": [
    "import matplotlib.pyplot as plt\n",
    "import numpy as np\n",
    "# Your code goes here!\n",
    "# Variable names for Solution tester:"
   ]
  },
  {
   "cell_type": "code",
   "execution_count": null,
   "metadata": {},
   "outputs": [],
   "source": [
    "# Solution tester\n",
    "# This cell will check if your variables and vectors are correct.\n",
    "import solution_tester"
   ]
  }
 ],
 "metadata": {
  "celltoolbar": "Edit Metadata",
  "kernelspec": {
   "display_name": "Python 3",
   "language": "python",
   "name": "python3"
  },
  "language_info": {
   "codemirror_mode": {
    "name": "ipython",
    "version": 3
   },
   "file_extension": ".py",
   "mimetype": "text/x-python",
   "name": "python",
   "nbconvert_exporter": "python",
   "pygments_lexer": "ipython3",
   "version": "3.8.2"
  },
  "latex_envs": {
   "LaTeX_envs_menu_present": true,
   "autoclose": false,
   "autocomplete": true,
   "bibliofile": "biblio.bib",
   "cite_by": "apalike",
   "current_citInitial": 1,
   "eqLabelWithNumbers": true,
   "eqNumInitial": 1,
   "hotkeys": {
    "equation": "Ctrl-E",
    "itemize": "Ctrl-I"
   },
   "labels_anchors": false,
   "latex_user_defs": false,
   "report_style_numbering": false,
   "user_envs_cfg": false
  }
 },
 "nbformat": 4,
 "nbformat_minor": 2
}
