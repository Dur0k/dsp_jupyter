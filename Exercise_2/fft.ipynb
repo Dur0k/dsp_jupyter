{
 "cells": [
  {
   "cell_type": "markdown",
   "metadata": {},
   "source": [
    "## Exercise 2\n",
    "# Digital Signal Processing\n",
    "\n",
    "\n",
    "### 2. DFT: truncation error / sub-sampling\n",
    "Plot of discrete fourier transform $X_i(n) = DFT\\{x_i(k)\\}$ of the following series:  \n",
    "\n",
    "$$\\begin{align*}\n",
    "x_1(k) &= \\text{sin}(k\\pi/8)\\\\\n",
    "x_2(k) &= \\text{sin}(k\\pi/2)\\\\\n",
    "x_3(k) &= \\text{sin}(k\\pi3/2)\\\\\n",
    "\\end{align*}$$"
   ]
  },
  {
   "cell_type": "code",
   "execution_count": 33,
   "metadata": {},
   "outputs": [
    {
     "data": {
      "application/vnd.jupyter.widget-view+json": {
       "model_id": "ecba1552f9cb4c5bb97d7d33b1e29793",
       "version_major": 2,
       "version_minor": 0
      },
      "text/plain": [
       "interactive(children=(FloatSlider(value=0.125, continuous_update=False, description='f', max=1.5, min=0.125, s…"
      ]
     },
     "metadata": {},
     "output_type": "display_data"
    }
   ],
   "source": [
    "%matplotlib inline\n",
    "from ipywidgets import interactive, interact, FloatSlider\n",
    "import numpy as np\n",
    "import matplotlib.pyplot as plt\n",
    "#@interact(f=(0, 1))\n",
    "def time_plot(f):\n",
    "    #fig = plt.figure(figsize=(10,10))\n",
    "    fig, ((ax1, ax2), (ax3, ax4)) = plt.subplots(2, 2, figsize=(10,10))\n",
    "    k8 = np.arange(8)\n",
    "    k64 = np.arange(64)\n",
    "    t = np.linspace(0,8,256)\n",
    "    y8 = np.sin(k8*np.pi*f)\n",
    "    y64 = np.sin(k64*np.pi*f)\n",
    "\n",
    "    \n",
    "    ax1.stem(k8, y8, use_line_collection=True, basefmt=\" \")\n",
    "    ax1.plot(t, np.sin(t*np.pi*f), '.', c='b', markersize=0.5)\n",
    "    ax1.set_xlim([0, 8])\n",
    "    ax1.set_ylim([-1.2, 1.2])\n",
    "    ax1.set_title(\"x, k=0...7\")\n",
    "    \n",
    "    Y = np.abs(np.fft.fft(y8))\n",
    "    ax2.stem(k8,Y, use_line_collection=True, basefmt=\" \")\n",
    "    ax2.set_xlim([0, 7])\n",
    "    ax2.set_title(\"|X|, k=0...7\")\n",
    "    \n",
    "    ax3.stem(k64, y64, use_line_collection=True, basefmt=\" \")\n",
    "    ax3.set_xlim([0, 64])\n",
    "    ax3.set_title(\"x, k=0...63\")\n",
    "    \n",
    "    Y = np.abs(np.fft.fft(y64))\n",
    "    ax4.stem(k64,Y, use_line_collection=True, basefmt=\" \")\n",
    "    ax4.set_xlim([0, 63])\n",
    "    ax4.set_title(\"|X|, k=0...63\")\n",
    "\n",
    "interact(time_plot, f=FloatSlider(min=1/8, max=3/2, step=0.05, continuous_update=False));"
   ]
  },
  {
   "cell_type": "code",
   "execution_count": 32,
   "metadata": {},
   "outputs": [
    {
     "data": {
      "application/vnd.jupyter.widget-view+json": {
       "model_id": "f90fc95909454e60840124530b95e090",
       "version_major": 2,
       "version_minor": 0
      },
      "text/plain": [
       "interactive(children=(FloatSlider(value=0.1, continuous_update=False, description='f', max=0.5, min=0.1, step=…"
      ]
     },
     "metadata": {},
     "output_type": "display_data"
    }
   ],
   "source": [
    "%matplotlib inline\n",
    "from ipywidgets import interactive, interact, FloatSlider, IntSlider\n",
    "import numpy as np\n",
    "import matplotlib.pyplot as plt\n",
    "#@interact(f=(0, 1))\n",
    "def fft(f, L):\n",
    "    #fig = plt.figure(figsize=(10,10))\n",
    "    fig = plt.figure(figsize=(10,5))\n",
    "    k = np.arange(L)\n",
    "    y = np.sin(k*np.pi*f)\n",
    "    Y = np.abs(np.fft.fft(y))\n",
    "    plt.stem(k,Y, use_line_collection=True, basefmt=\" \")\n",
    "    \n",
    "interact(fft, f=FloatSlider(min=0.1, max=0.5, step=0.05, continuous_update=False), L=IntSlider(min=8, max=512, step=8, continuous_update=False));    "
   ]
  },
  {
   "cell_type": "code",
   "execution_count": null,
   "metadata": {},
   "outputs": [],
   "source": [
    "L\n"
   ]
  }
 ],
 "metadata": {
  "kernelspec": {
   "display_name": "Python 3",
   "language": "python",
   "name": "python3"
  },
  "language_info": {
   "codemirror_mode": {
    "name": "ipython",
    "version": 3
   },
   "file_extension": ".py",
   "mimetype": "text/x-python",
   "name": "python",
   "nbconvert_exporter": "python",
   "pygments_lexer": "ipython3",
   "version": "3.7.3"
  }
 },
 "nbformat": 4,
 "nbformat_minor": 4
}
