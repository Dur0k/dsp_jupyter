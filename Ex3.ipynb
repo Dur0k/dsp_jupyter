{
 "cells": [
  {
   "cell_type": "markdown",
   "metadata": {
    "deletable": false,
    "editable": false
   },
   "source": [
    "\n",
    "# Digital Signal Processing\n",
    "\n",
    "## Exercise 3\n",
    "\n",
    "### Part 1: Discrete Signals and Systems (Chapt. 2)\n",
    "\n",
    "#### Task 1: analysis of a 2nd order system\n",
    "We start with the following 2nd order system.\n",
    "<img src=\"functions/img/system.png\" width=\"500\">\n",
    "\n",
    "**a)** Determine the transfer function $H(z) = Y(z)/X(z)$ and the difference equation of the system.\n",
    "\n",
    "**b)** Calculate the first 10 coefficients of the impulse response using the difference equation from a). (At starting time the system is in a resting state.)\n",
    "\n",
    "**c)** Program the system and verify your results of b).  \n",
    "For this purpose write a Python-function which provides the corresponding output vector `y`.  \n",
    "Determine the impulse response by exciting the system with an appropriate input sequence.\n",
    "\n",
    "**Python Hints:**  \n",
    "```python\n",
    "def filtersystem(x)                  # create a function called filtersystem\n",
    "x = np.append(np.zeros(2), x)        # place two zeros in front of x (empty delay memory)\n",
    "y = np.zeros(len(x))                 # output vector y\n",
    "for k in range(2,len(x)):            # calculate y(k) via difference equation\n",
    "        y[k] = y[k-1] - 0.5*y[k-2] + x[k] + 1.5*x[k-1] + x[k-2]\n",
    "        \n",
    "y = y[2:]                            # remove first two tabs from y(k)\n",
    "```\n",
    "\n",
    "**d)** Determine the coefficient vectors $a = \\begin{bmatrix} a_0 & a_1 & a_2 \\end{bmatrix}$ and $a = \\begin{bmatrix} b_0 & b_1 & b_2 \\end{bmatrix}$\n",
    "\n",
    "\\begin{equation*}\\label{eq:}\n",
    "H(z) = \\frac{\\sum^2_{\\mu=0} b_{\\mu} z^{-\\mu} }{\\sum^2_{\\nu=0} a_{\\nu} z^{-\\nu} }\n",
    "\\end{equation*}\n",
    "\n",
    "Plot the frequency response and the zero-pole plot for the given system by using the functions `freqz()` and `zplane()`.\n",
    "Compare the frequency response with the positions of the zeros and poles.\n",
    "\n",
    "**Python Hints:**  \n",
    "```python\n",
    "b = np.array(([b0, b1, b2]))                    # defining coefficients vector b\n",
    "a = np.array(([a0, a1, a2]))                    # defining coefficients vector a\n",
    "w,H =scipy.signal.freqz(b,a,256)                # calculate frequency response H(e^{jOmega})\n",
    "plt.semilogy(w,np.abs(H))                       # plot it with a logarithmic scale on y-axis\n",
    "plt.grid()                                      # place a grid\n",
    "zplane(b,a)                                     # zero-pole plot of coefficients a and b\n",
    "```\n"
   ]
  },
  {
   "cell_type": "code",
   "execution_count": null,
   "metadata": {},
   "outputs": [],
   "source": [
    "import matplotlib.pyplot as plt\n",
    "import numpy as np\n",
    "from functions.zplane import zplane \n",
    "# Your code goes here!\n",
    "# Variable names for Solution tester:\n",
    "# b & c) y_resp\n",
    "# function name: filtersystem\n",
    "# d) a,b"
   ]
  },
  {
   "cell_type": "code",
   "execution_count": null,
   "metadata": {},
   "outputs": [],
   "source": [
    "# Solution tester\n",
    "# This cell will check if your variables and vectors are correct.\n",
    "from functions import Ex3_test\n",
    "Ex3_test.exercise1b(y_resp)\n",
    "Ex3_test.exercise1c(filtersystem)\n",
    "Ex3_test.exercise1d(a,b)"
   ]
  },
  {
   "cell_type": "markdown",
   "metadata": {
    "deletable": false,
    "editable": false
   },
   "source": [
    "#### Task 2: impulse response, step response, frequency response\n",
    "To analyze a LTI-System in the frequency domain, the system will be excited using a complex exponential series $x(k) = e^{j\\Omega k}$. This yields a system response.\n",
    "\\begin{equation*}\n",
    "y(k) = H\\{ e^{j \\Omega k } \\} = e^{j \\Omega k } H(e^{j \\Omega k }),\n",
    "\\end{equation*}\n",
    "\n",
    "where $H\\{\\cdot \\}$ represents the system operator and $H(e^{j \\Omega k })$ the frequency response. This means that the output signal is again a complex exponential series with the same frequency, whose amplitude and phase has been changed by the frequency response $H(e^{j \\Omega k })$. $e^{j \\Omega k }$ is known as \\textit{eigenfunction} of the operator $H$ and $H(e^{j \\Omega k })$ as the corresponding \\textit{eigenvalue}.  \n",
    "The frequency response $H(e^{j \\Omega k }) = |H(e^{j \\Omega k })| e^{jb(\\Omega)}$ is periodic by $\\Omega = 2\\pi$ and the absolute value $|H(e^{j \\Omega k })|$ is called the \\textit{amplitude response}, the phase $b(\\Omega)$ is called \\textit{phase response} of the system.  \n",
    "\n",
    "**a)** Calculate (using function `lfilter()`) the impulse response of the following LTS-System described by the difference equation within the interval $-10 \\leq k \\leq 100$:\n",
    "\n",
    "\\begin{equation}\n",
    "\\label{eq:system}\n",
    "y(k) - 1.8\\textrm{cos}(\\frac{\\pi}{16}) y(k-1) + 0.81 y(k-2) = x(k) + \\frac{1}{2}x(k-1) \\, . \n",
    "\\end{equation}\n",
    "\n",
    "\n",
    "**b)** Calculate the step-response of the system \\ref{eq:system} within the interval $-10 \\leq k \\leq 100$.\n",
    "\n",
    "**Python Hints:**  \n",
    "```python\n",
    "y = scipy.signal.lfilter(b,a,x)          # filter signal x with an IIR or FIR filter\n",
    "```\n"
   ]
  },
  {
   "cell_type": "code",
   "execution_count": null,
   "metadata": {},
   "outputs": [],
   "source": [
    "import matplotlib.pyplot as plt\n",
    "import numpy as np\n",
    "import scipy.signal\n",
    "# Your code goes here!\n",
    "# Variable names for Solution tester:\n",
    "# a) coefficients: a, b\n",
    "# k, x, y"
   ]
  },
  {
   "cell_type": "code",
   "execution_count": null,
   "metadata": {},
   "outputs": [],
   "source": [
    "# Solution tester\n",
    "# This cell will check if your variables and vectors are correct.\n",
    "from functions import Ex3_test\n",
    "Ex3_test.exercise2a(k, x, a, b, y)"
   ]
  },
  {
   "cell_type": "markdown",
   "metadata": {
    "deletable": false,
    "editable": false
   },
   "source": [
    "### Part 2: Recursive Filters (Chapt. 4)\n",
    "\n",
    "#### Task 1: design of recursive filters\n",
    "\n",
    "The goal of this exercise is to design a digital lowpass system based on a given tolerance scheme for its amplitude response. There are Python-functions e.g. `butter`, `cheby1` etc. to realize a lowpass design for continuous time systems. The tolerance scheme given in the z domain has to be transformed to the s domain, the existing algorithms are used to design the desired filter in the s domain, then the system function is transformed back to the z domain.  \n",
    "To transform from z to s domain and vice versa, the \\textit{bilinear transformation} ius used, which transforms stable systems in s domain to stable systems in z domain (Section 4.2.1). Using the bilinear transformation, a predistortion of the $\\Omega$-axis in the z domain is necessary. The design may be done using the standard procedures described in Section 4.2.2 and 4.2.3 using an auxiliary function.  \n",
    "For the lowpass-design, the functions provided by Python are represented in the following table. Calculation of the necessary filter order and the normalized cut-off frequency can be done using these functions:\n",
    "\n",
    "| **filter**       | **determination of filter order**          |\n",
    "|:-----------------|:-------------------------------------------|\n",
    "| Butterworth      | [n,Wn] = scipy.signal.buttord(Wp,Ws,Rp,Rs) |\n",
    "| Chebyshev type I | [n,Wn] = scipy.signal.cheb1ord(Wp,Ws,Rp,Rs)|\n",
    "| Chebyshev type I | [n,Wn] = scipy.signal.cheb2ord(Wp,Ws,Rp,Rs)|\n",
    "| Cauer            | [n,Wn] = scipy.signal.ellipord(Wp,Ws,Rp,Rs)|\n",
    "\n",
    "Subsequently, the coefficients can be calculated using the desgin functions:\n",
    "\n",
    "| **filter**       | **design function**                      |\n",
    "|:-----------------|:-----------------------------------------|\n",
    "| Butterworth      | [b,a] = scipy.signal.butter(n, Wn)       |\n",
    "| Chebyshev type I | [b,a] = scipy.signal.cheby1(n, Rp, Wn)   |\n",
    "| Chebyshev type I | [b,a] = scipy.signal.cheby2(n, Rs, Wn)   |\n",
    "| Cauer            | [b,a] = scipy.signal.ellip(n, Rp, Rs, Wn)|\n",
    "\n",
    "The meaning of the parameters is:\n",
    "\n",
    "|     |                                               |\n",
    "|:----|:----------------------------------------------|\n",
    "| b,a | vectors with the filter coefficients          |\n",
    "| m   | order of the filter                           |\n",
    "| Wn  | normalized cut-off frequency of the lowpass   |\n",
    "| Wp  | normalized pass-band frequency of the lowpass |\n",
    "| Ws  | normalized stop-band frequency of the lowpass |\n",
    "| Rp  | ripple in pass-band (dB)                      |\n",
    "| Rp  | stop-band attenuation (dB)                    |\n",
    "\n",
    "Determine the minimal filter order needed for each filkter type and design the lowpass-filters for the following tolerance scheme:\n",
    "<img src=\"functions/img/filterband.png\" width=\"500\">\n",
    "\n",
    "- $f_D = 1\\,\\textrm{kHz}$\n",
    "- $f_s = 1.4\\,\\textrm{kHz}$ \n",
    "- $R_P = 0.5\\,\\textrm{dB}$ \n",
    "- $R_S = 30\\,\\textrm{dB}$ \n",
    "- $f_A = 8\\,\\textrm{kHz}$ \n",
    "\n",
    "Compare the amplitude response and the pole-zero plot of the different filters to each other."
   ]
  },
  {
   "cell_type": "code",
   "execution_count": null,
   "metadata": {},
   "outputs": [],
   "source": [
    "import numpy as np\n",
    "import scipy.signal\n",
    "import matplotlib.pyplot as plt\n",
    "from functions.zplane import zplane_ax \n",
    "\n",
    "# Your code goes here!\n",
    "# Variable names for Solution tester:\n",
    "# Wp, Ws"
   ]
  },
  {
   "cell_type": "code",
   "execution_count": null,
   "metadata": {},
   "outputs": [],
   "source": [
    "# Solution tester\n",
    "# This cell will check if your variables and vectors are correct.\n",
    "from functions import Ex3_test\n",
    "Ex3_test.exercise3(Wp, Ws)"
   ]
  }
 ],
 "metadata": {
  "celltoolbar": "Edit Metadata",
  "kernelspec": {
   "display_name": "Python 3",
   "language": "python",
   "name": "python3"
  },
  "language_info": {
   "codemirror_mode": {
    "name": "ipython",
    "version": 3
   },
   "file_extension": ".py",
   "mimetype": "text/x-python",
   "name": "python",
   "nbconvert_exporter": "python",
   "pygments_lexer": "ipython3",
   "version": "3.8.2"
  },
  "latex_envs": {
   "LaTeX_envs_menu_present": true,
   "autoclose": false,
   "autocomplete": true,
   "bibliofile": "biblio.bib",
   "cite_by": "apalike",
   "current_citInitial": 1,
   "eqLabelWithNumbers": true,
   "eqNumInitial": 1,
   "hotkeys": {
    "equation": "Ctrl-E",
    "itemize": "Ctrl-I"
   },
   "labels_anchors": false,
   "latex_user_defs": false,
   "report_style_numbering": false,
   "user_envs_cfg": false
  }
 },
 "nbformat": 4,
 "nbformat_minor": 2
}
