{
 "cells": [
  {
   "attachments": {},
   "cell_type": "markdown",
   "metadata": {},
   "source": [
    "\n",
    "# Digital Signal Processing\n",
    "\n",
    "## Exercise 1\n",
    "\n",
    "### 1. Discrete Signals and Systems (Chapt. 2)\n",
    "\n",
    "#### Exercise 1: analysis of a 2nd order system\n",
    "We start with the following 2nd order system.\n",
    "![ore.png](ores.png)\n",
    "**a)** Determine the transfer function $H(z) = Y(z)/X(z)$ and the difference equation of the system.\n",
    "\n",
    "**b)** Calculate the first 10 coefficients of the impulse response using the difference equation from a). (At starting time the system is in a resting state.)\n",
    "\n",
    "**c)** Program the system and verify your results of b).  \n",
    "For this purpose write a Python-function which provides the corresponding output vector `y`.  \n",
    "Determine the impulse response by exciting the system with an appropriate input sequence.\n",
    "\n",
    "**Python Hints:**  \n",
    "```python\n",
    "def filtersystem(x)       # create a function called filtersystem,\n",
    "x = x\n",
    "```\n",
    "\n",
    "**d)** Determine the coefficient vectors $a = \\begin{bmatrix} a_0 & a_1 & a_2 \\end{bmatrix}$ and $a = \\begin{bmatrix} b_0 & b_1 & b_2 \\end{bmatrix}$\n",
    "\n",
    "\\begin{equation*}\\label{eq:}\n",
    "H(z) = \\frac{\\sum^2_{\\mu=0} b_{\\mu} z^{-\\mu} }{\\sum^2_{\\nu=0} a_{\\nu} z^{-\\nu} }\n",
    "\\end{equation*}\n",
    "\n",
    "Plot the frequency response and the zero-pole plot for the given system by using the functions `freqz()` and `zplane()`.\n",
    "Compare the frequency response with the positions of the zeros and poles.\n",
    "\n",
    "**Python Hints:**  \n",
    "```python\n",
    "b = [1 1.5 1]\n",
    "```\n"
   ]
  },
  {
   "cell_type": "code",
   "execution_count": 1,
   "metadata": {},
   "outputs": [],
   "source": [
    "import matplotlib.pyplot as plt\n",
    "import numpy as np\n",
    "# Your code goes here!\n",
    "# Variable names for Solution tester:"
   ]
  },
  {
   "cell_type": "code",
   "execution_count": 2,
   "metadata": {},
   "outputs": [
    {
     "ename": "ModuleNotFoundError",
     "evalue": "No module named 'solution_tester'",
     "output_type": "error",
     "traceback": [
      "\u001b[0;31m---------------------------------------------------------------------------\u001b[0m",
      "\u001b[0;31mModuleNotFoundError\u001b[0m                       Traceback (most recent call last)",
      "\u001b[0;32m<ipython-input-2-b3b84f8f44b0>\u001b[0m in \u001b[0;36m<module>\u001b[0;34m\u001b[0m\n\u001b[1;32m      1\u001b[0m \u001b[0;31m# Solution tester\u001b[0m\u001b[0;34m\u001b[0m\u001b[0;34m\u001b[0m\u001b[0;34m\u001b[0m\u001b[0m\n\u001b[1;32m      2\u001b[0m \u001b[0;31m# This cell will check if your variables and vectors are correct.\u001b[0m\u001b[0;34m\u001b[0m\u001b[0;34m\u001b[0m\u001b[0;34m\u001b[0m\u001b[0m\n\u001b[0;32m----> 3\u001b[0;31m \u001b[0;32mimport\u001b[0m \u001b[0msolution_tester\u001b[0m\u001b[0;34m\u001b[0m\u001b[0;34m\u001b[0m\u001b[0m\n\u001b[0m\u001b[1;32m      4\u001b[0m \u001b[0msolution_tester\u001b[0m\u001b[0;34m.\u001b[0m\u001b[0mexercise2\u001b[0m\u001b[0;34m(\u001b[0m\u001b[0mk\u001b[0m\u001b[0;34m,\u001b[0m \u001b[0mx\u001b[0m\u001b[0;34m)\u001b[0m\u001b[0;34m\u001b[0m\u001b[0;34m\u001b[0m\u001b[0m\n",
      "\u001b[0;31mModuleNotFoundError\u001b[0m: No module named 'solution_tester'"
     ]
    }
   ],
   "source": [
    "# Solution tester\n",
    "# This cell will check if your variables and vectors are correct.\n",
    "import solution_tester"
   ]
  },
  {
   "cell_type": "markdown",
   "metadata": {},
   "source": [
    "#### Exercise 2: impulse response, step response, frequency response\n",
    "To analyze a LTI-System in the frequency domain, the system will be excited using a complex exponential series $x(k) = e^{j\\Omega k}$. This yields a system response.\n",
    "\\begin{equation*}\n",
    "y(k) = H\\{ e^{j \\Omega k } \\} = e^{j \\Omega k } H(e^{j \\Omega k }),\n",
    "\\end{equation*}\n",
    "\n",
    "where $H\\{\\cdot \\}$ represents the system operator and $H(e^{j \\Omega k })$ the frequency response. This means that the output signal is again a complex exponential series with the same frequency, whose amplitude and phase has been changed by the frequency response $H(e^{j \\Omega k })$. $e^{j \\Omega k }$ is known as \\textit{eigenfunction} of the operator $H$ and $H(e^{j \\Omega k })$ as the corresponding \\textit{eigenvalue}.  \n",
    "The frequency response $H(e^{j \\Omega k }) = |H(e^{j \\Omega k })| e^{jb(\\Omega)}$ is periodic by $\\Omega = 2\\pi$ and the absolute value $|H(e^{j \\Omega k })|$ is called the \\textit{amplitude response}, the phase $b(\\Omega)$ is called \\textit{phase response} of the system.  \n",
    "\n",
    "**a)** Calculate (using function `filter()`) the impulse response of the following LTS-System described by the difference equation within the interval $-10 \\leq k \\leq 100$:\n",
    "\n",
    "\\begin{equation}\n",
    "\\label{eq:system}\n",
    "y(k) - 1.8\\textrm{cos}(\\frac{\\pi}{16}) y(k-1) + 0.81 y(k-2) = x(k) + \\frac{1}{2}x(k-1) \\, . \n",
    "\\end{equation}\n",
    "\n",
    "**b)** Calculate the step-response of the system \\ref{eq:system} within the interval $-10 \\leq k \\leq 100$."
   ]
  },
  {
   "cell_type": "code",
   "execution_count": 3,
   "metadata": {},
   "outputs": [],
   "source": [
    "import matplotlib.pyplot as plt\n",
    "import numpy as np\n",
    "# Your code goes here!\n",
    "# Variable names for Solution tester:"
   ]
  },
  {
   "cell_type": "code",
   "execution_count": 4,
   "metadata": {},
   "outputs": [
    {
     "ename": "ModuleNotFoundError",
     "evalue": "No module named 'solution_tester'",
     "output_type": "error",
     "traceback": [
      "\u001b[0;31m---------------------------------------------------------------------------\u001b[0m",
      "\u001b[0;31mModuleNotFoundError\u001b[0m                       Traceback (most recent call last)",
      "\u001b[0;32m<ipython-input-4-f3aca1aaf73e>\u001b[0m in \u001b[0;36m<module>\u001b[0;34m\u001b[0m\n\u001b[1;32m      1\u001b[0m \u001b[0;31m# Solution tester\u001b[0m\u001b[0;34m\u001b[0m\u001b[0;34m\u001b[0m\u001b[0;34m\u001b[0m\u001b[0m\n\u001b[1;32m      2\u001b[0m \u001b[0;31m# This cell will check if your variables and vectors are correct.\u001b[0m\u001b[0;34m\u001b[0m\u001b[0;34m\u001b[0m\u001b[0;34m\u001b[0m\u001b[0m\n\u001b[0;32m----> 3\u001b[0;31m \u001b[0;32mimport\u001b[0m \u001b[0msolution_tester\u001b[0m\u001b[0;34m\u001b[0m\u001b[0;34m\u001b[0m\u001b[0m\n\u001b[0m",
      "\u001b[0;31mModuleNotFoundError\u001b[0m: No module named 'solution_tester'"
     ]
    }
   ],
   "source": [
    "# Solution tester\n",
    "# This cell will check if your variables and vectors are correct.\n",
    "import solution_tester"
   ]
  },
  {
   "cell_type": "markdown",
   "metadata": {},
   "source": [
    "### 2. Recursive Filters (Chapt. 4)\n",
    "\n",
    "#### Exercise 3: design of recursive filters\n",
    "\n",
    "The goal of this exercise is to design a digital lowpass system based on a given tolerance scheme for its amplitude response. There are Python-functions e.g. `butter`, `cheby1` etc. to realize a lowpass design for continuous time systems. The tolerance scheme given in the z domain has to be transformed to the s domain, the existing algorithms are used to design the desired filter in the s domain, then the system function is transformed back to the z domain.  \n",
    "To transform from z to s domain and vice versa, the \\textit{bilinear transformation} ius used, which transforms stable systems in s domain to stable systems in z domain (Section 4.2.1). Using the bilinear transformation, a predistortion of the $\\Omega$-axis in the z domain is necessary. The design may be done using the standard procedures described in Section 4.2.2 and 4.2.3 using an auxiliary function.  \n",
    "For the lowpass-design, the functions provided by Python are represented in the following table. Calculation of the necessary filter order and the normalized cut-off frequency can be done using these functions:\n",
    "\n",
    "| Tables        | Are           |\n",
    "| ------------- | ------------- |\n",
    "| col 3 is      | right-aligned |\n",
    "| col 2 is      | centered      |\n",
    "| zebra stripes | are neat      |"
   ]
  },
  {
   "cell_type": "code",
   "execution_count": null,
   "metadata": {},
   "outputs": [],
   "source": []
  }
 ],
 "metadata": {
  "kernelspec": {
   "display_name": "Python 3",
   "language": "python",
   "name": "python3"
  },
  "language_info": {
   "codemirror_mode": {
    "name": "ipython",
    "version": 3
   },
   "file_extension": ".py",
   "mimetype": "text/x-python",
   "name": "python",
   "nbconvert_exporter": "python",
   "pygments_lexer": "ipython3",
   "version": "3.8.2"
  },
  "latex_envs": {
   "LaTeX_envs_menu_present": true,
   "autoclose": false,
   "autocomplete": true,
   "bibliofile": "biblio.bib",
   "cite_by": "apalike",
   "current_citInitial": 1,
   "eqLabelWithNumbers": true,
   "eqNumInitial": 1,
   "hotkeys": {
    "equation": "Ctrl-E",
    "itemize": "Ctrl-I"
   },
   "labels_anchors": false,
   "latex_user_defs": false,
   "report_style_numbering": false,
   "user_envs_cfg": false
  }
 },
 "nbformat": 4,
 "nbformat_minor": 2
}
