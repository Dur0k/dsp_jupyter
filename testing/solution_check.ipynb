{
 "cells": [
  {
   "cell_type": "markdown",
   "metadata": {},
   "source": [
    "# Check Solutions\n"
   ]
  },
  {
   "cell_type": "markdown",
   "metadata": {},
   "source": [
    "## 1. Exercise\n"
   ]
  },
  {
   "cell_type": "code",
   "execution_count": null,
   "metadata": {},
   "outputs": [],
   "source": []
  },
  {
   "cell_type": "markdown",
   "metadata": {},
   "source": [
    "Use numpy to create the discrete time vector k and three discrete sines x1, x2 and x3:  \n",
    "$$\\begin{align*}\n",
    "x_1(k) &= \\text{sin}(k\\pi/8)\\text{, for }k = 0...63\\\\\n",
    "x_2(k) &= \\text{sin}(k\\pi/2)\\text{, for }k = 0...63\\\\\n",
    "x_3(k) &= \\text{sin}(k\\pi3/2)\\text{, for }k = 0...63\\\\\n",
    "\\end{align*}$$"
   ]
  },
  {
   "cell_type": "code",
   "execution_count": null,
   "metadata": {},
   "outputs": [],
   "source": [
    "import numpy as np\n",
    "# Define k, x1, x2, x3 using numpy\n",
    "# Code goes here"
   ]
  },
  {
   "cell_type": "code",
   "execution_count": 3,
   "metadata": {},
   "outputs": [],
   "source": [
    "# Solution\n",
    "#k = np.arange(64)\n",
    "#x1 = np.sin(k*np.pi*1/8)\n",
    "#x2 = np.sin(k*np.pi*1/2)\n",
    "#x3 = np.sin(k*np.pi*3/2)"
   ]
  },
  {
   "cell_type": "code",
   "execution_count": null,
   "metadata": {},
   "outputs": [],
   "source": [
    "# Testing function can be in an obscured library\n",
    "import ipywidgets as widgets\n",
    "from IPython.display import clear_output\n",
    "button = widgets.Button(description='Check Solution')\n",
    "\n",
    "out = widgets.Output()\n",
    "def on_button_clicked(_):\n",
    "    #clear_output()\n",
    "    k_sol = np.arange(64)\n",
    "    x1_sol = np.sin(k_sol*np.pi*1/8)\n",
    "    x2_sol = np.sin(k_sol*np.pi*1/2)\n",
    "    x3_sol = np.sin(k_sol*np.pi*3/2)\n",
    "\n",
    "    if len(k)<len(k_sol):\n",
    "        print('Vector k is too small')\n",
    "\n",
    "    elif len(k)>len(k_sol):\n",
    "        print('Vector k is too large')  \n",
    "\n",
    "    elif np.array_equal(k, k_sol) and np.array_equal(x1, x1_sol) and np.array_equal(x2, x2_sol) and np.array_equal(x3, x3_sol):\n",
    "        print('Correct Solution!')\n",
    "\n",
    "# linking button and function together using a button's method\n",
    "button.on_click(on_button_clicked)\n",
    "# displaying button and its output together\n",
    "widgets.VBox([button,out])\n",
    "\n"
   ]
  },
  {
   "cell_type": "code",
   "execution_count": null,
   "metadata": {},
   "outputs": [],
   "source": [
    "print(k)"
   ]
  },
  {
   "cell_type": "code",
   "execution_count": null,
   "metadata": {},
   "outputs": [],
   "source": []
  },
  {
   "cell_type": "code",
   "execution_count": null,
   "metadata": {},
   "outputs": [],
   "source": []
  }
 ],
 "metadata": {
  "kernelspec": {
   "display_name": "Python 3",
   "language": "python",
   "name": "python3"
  },
  "language_info": {
   "codemirror_mode": {
    "name": "ipython",
    "version": 3
   },
   "file_extension": ".py",
   "mimetype": "text/x-python",
   "name": "python",
   "nbconvert_exporter": "python",
   "pygments_lexer": "ipython3",
   "version": "3.7.3"
  }
 },
 "nbformat": 4,
 "nbformat_minor": 4
}
