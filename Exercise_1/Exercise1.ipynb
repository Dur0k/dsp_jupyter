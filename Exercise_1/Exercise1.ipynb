{
 "cells": [
  {
   "cell_type": "markdown",
   "metadata": {
    "deletable": false,
    "editable": false
   },
   "source": [
    "\n",
    "# Digital Signal Processing\n",
    "\n",
    "## Exercise 1\n",
    "\n",
    "### Part 1: Discrete Signals and Systems\n",
    "\n",
    "#### Task 1: Function generator\n",
    "In this exercise a function generator shall be programmed which generates a discrete sinusoidal signal of frequency $f$ at a sampling frequency of $f_s$. For a time continuous system it is common to use the angular frequency $\\omega = 2 \\pi f$. Thus a time continuous sine signal is given by  \n",
    "\n",
    "$$ x(t) = \\text{sin}\\,(\\omega \\cdot t) \\,.$$\n",
    "\n",
    "Within a time discrete system the sinusoidal signal is sampled with periods of the length $ T_s = 1/f_s$, such that the time instances $t = T_s \\cdot k$ can be expressed by the indices $k = 0,1,2,\\ldots.$ Therefore we obtain the time discrete signal\n",
    "\n",
    "$$ x(k) = x(t)|_{t=kT_s} = \\text{sin}\\,(\\omega \\cdot T_s \\cdot k) \\,.$$\n",
    "\n",
    "For time discrete systems it makes sense to introduce the normalized angular frequency $\\Omega$, which is unit- and dimensionless.\n",
    "\n",
    "\\begin{align*}\n",
    "    \\Omega &:= \\omega \\cdot T_s\\\\\n",
    "              &= 2\\pi f \\cdot T_s\\\\\n",
    "              &= 2\\pi \\frac{f}{f_s}\n",
    "\\end{align*}\n",
    "\n",
    "This definition will be used throughout the further exercises, since it allows to design and elaborate digital systems independent on the sampling frequency. Thus\n",
    "\n",
    "$$ x(k) = \\text{sin}\\,(\\Omega \\cdot k) \\,.$$\n",
    "\n"
   ]
  },
  {
   "cell_type": "markdown",
   "metadata": {
    "deletable": false,
    "editable": false
   },
   "source": [
    "**a)** Create an array `x_a` with 60 samples of a sinusoidal signal with the frequency $f_a = 400\\, \\text{Hz}$ at a sampling frequency of $f_s = 8\\, \\text{kHz}$.\n",
    "\n",
    "In order to do so initialize an array $\\text{k} = [0,1,\\ldots,59]$ which represents the time index of the sampled signal $x_a(k)$. Make use of numpy's `sin()`-function.\n",
    "\n",
    "Display the signal with the help of the function `stem()` from the library matplotlib. What is the period of the sampled signal?\n",
    "\n",
    "\n",
    "**b)** Change the frequency of the sampled sinusoidal signal to $f_b = 960\\,\\text{Hz}$ and display the resulting discrete array `x_b` again by using `stem()`.\n",
    "\n",
    "What is the period of the sampled signal now?\n",
    "\n",
    "**Python Hints:**  \n",
    "```python\n",
    "k = np.arange(0,60,1)                                 # creating index vector,\n",
    "Omega_a = 2*np.pi* 400/8000                           # defining Omega,\n",
    "x_a = np.sin(Omega0*k)                                # elementwise calculation of the signal,\n",
    "plt.figure(1)                                         # create figure to plot in\n",
    "plt.stem(k,x_a, use_line_collection=True)             # plotting xsin over its index vector k,\n",
    "plt.show()                                            # show the plot\n",
    "```"
   ]
  },
  {
   "cell_type": "code",
   "execution_count": 76,
   "metadata": {},
   "outputs": [],
   "source": [
    "import matplotlib.pyplot as plt\n",
    "import numpy as np\n",
    "# Your code goes here!\n",
    "# Variable names for Solution tester:\n",
    "# a) Omega_a, k, x_a\n",
    "# b) Omega_b, k, x_b\n"
   ]
  },
  {
   "cell_type": "code",
   "execution_count": null,
   "metadata": {
    "deletable": false,
    "editable": false
   },
   "outputs": [],
   "source": [
    "# Solution tester\n",
    "# This cell will check if your variables and vectors are correct.\n",
    "import solution_tester\n",
    "solution_tester.exercise1(k, x_a, x_b, Omega_a, Omega_b)"
   ]
  },
  {
   "cell_type": "markdown",
   "metadata": {
    "deletable": false,
    "editable": false
   },
   "source": [
    "#### Task 2: special series\n",
    "This exercise demonstrates a fundamental series for digital signal processing.  \n",
    "\n",
    "Generate a delayed impulse series with amplitude $1.2$:\n",
    "\n",
    "\\begin{equation*}\n",
    "x(k) = 1.2 \\cdot \\delta(k-4), \\;\\;\\;\\;\\; -5 \\leq k \\leq 10\n",
    "\\end{equation*}\n",
    "\n",
    "with \n",
    "\n",
    "\\begin{equation*}\n",
    "\\delta(k) := \\left\\{\n",
    "    \\begin{array}{l l}\t\n",
    "         1, & k=0\\\\\n",
    "         0, & k \\neq 0\n",
    "    \\end{array}\\right.\n",
    "\\end{equation*}\n",
    "denoting the dirac series and plot this series using the function `stem()`.\n",
    "\n",
    "**Python Hints:**  \n",
    "```python\n",
    "k = np.arange(-5,11,1)                                # creating index vector k,\n",
    "x = np.zeros(16)                                      # creating a vector with 16 entries,\n",
    "x[4+5] = 1                                            # placing a dirac impulse dirac(k-4),\n",
    "x = x * 1.2                                           # scaling the vector x,\n",
    "plt.stem(k,x, use_line_collection=True)               # plotting vector x over the indices k,\n",
    "plt.show()                                            # show the plot\n",
    "```"
   ]
  },
  {
   "cell_type": "code",
   "execution_count": 71,
   "metadata": {},
   "outputs": [],
   "source": [
    "import matplotlib.pyplot as plt\n",
    "import numpy as np\n",
    "# Your code goes here!\n",
    "# Variable names for Solution tester:\n",
    "# k, x\n"
   ]
  },
  {
   "cell_type": "code",
   "execution_count": null,
   "metadata": {
    "deletable": false,
    "editable": false
   },
   "outputs": [],
   "source": [
    "# Solution tester\n",
    "# This cell will check if your variables and vectors are correct.\n",
    "import solution_tester\n",
    "solution_tester.exercise2(k, x)"
   ]
  },
  {
   "cell_type": "markdown",
   "metadata": {
    "deletable": false,
    "editable": false
   },
   "source": [
    "### Part 2: DFT\n",
    "\n",
    "#### Task 1: properties of the DFT\n",
    "Start with the same series `x_a` as in Task 1 of first part. You will have to generate it here again.\n",
    "    \n",
    "**a)** Calculate the DFT $X_a(n)$ using the function `np.fft.fft(x_a)`. Plot the real $\\text{Re}\\{X_a(n)\\}$ and imaginary $\\text{Im}\\{X_a(n)\\}$ part of $X_a(n)$.\n",
    "\n",
    "**b)** Produce a cyclic shift of $x_a(k)$ by $\\lambda = 4$ resp. 8 cycles: $x_b(k) = (x_a(k+\\lambda))_M$. What is the relation between $X_b(n) = \\text{DFT}\\{x_b(k)\\}$ and $X_a(n)$?\n",
    "\n",
    "**c)** Calculate the discrete fourier transform $X_c(n)$ of $x_c(k) = x_a(k) \\cdot \\text{exp}(j2\\pi\\frac{k}{16})$. What is the relation between $X_c(n)$ and $X_a(n)$?\n",
    "\n",
    "**Python Hints:**  \n",
    "```python\n",
    "X = np.fft.fft(x)                                     # calculate fft/dft of x\n",
    "x.real                                                # returns real part of x\n",
    "x.imag                                                # returns imaginary part of x\n",
    "np.abs(x)                                             # returns absolute value of x\n",
    "np.roll(x,s)                                          # perform circular shift by s cycles on x \n",
    "x_c = x_a*np.exp(2*1j*np.pi/16*k)                     # create modulated version of x_a acc to c)\n",
    "plt.figure(1)                                         # create figure to plot in\n",
    "plt.stem(k,x.real, use_line_collection=True)          # stem plot of real part of x\n",
    "plt.stem(k,x.imag,'r','ro', use_line_collection=True) # second stem of imag part plot in same figure, color: red\n",
    "plt.figure(2)                                         # create second figure ...\n",
    "```"
   ]
  },
  {
   "cell_type": "code",
   "execution_count": 1,
   "metadata": {},
   "outputs": [],
   "source": [
    "import matplotlib.pyplot as plt\n",
    "import numpy as np\n",
    "# Your code goes here!\n",
    "\n"
   ]
  },
  {
   "cell_type": "markdown",
   "metadata": {
    "deletable": false,
    "editable": false
   },
   "source": [
    "#### Task 2: interpolation by zero padding\n",
    "Calculate the DFT of $x(k) = 1-\\text{cos}(2\\pi k \\frac{8}{64})$ for $k=0\\ldots63$. Do common characteristics exist with the discrete fourier transform of the signal\n",
    "\n",
    "\\begin{equation*}\n",
    "x_0(k) = \\left\\{\n",
    "    \\begin{array}{l l}\t\n",
    "         x(k),&  k=0\\ldots63\\\\\n",
    "         0,  & k=64\\ldots127\n",
    "    \\end{array}\\right. \\;?\n",
    "\\end{equation*}\n",
    "\n",
    "**Python Hints:**  \n",
    "```python\n",
    "\n",
    "k = np.arange(0,64,1)\n",
    "x = 1 - np.cos(2*np.pi*k*8/64)                         # defines x(k),\n",
    "x0 = np.append(x,np.zeros(64))                         # zero pad x with 64 zeros\n",
    "```"
   ]
  },
  {
   "cell_type": "code",
   "execution_count": 75,
   "metadata": {},
   "outputs": [],
   "source": [
    "import matplotlib.pyplot as plt\n",
    "import numpy as np\n",
    "# Your code goes here!\n"
   ]
  },
  {
   "cell_type": "code",
   "execution_count": null,
   "metadata": {},
   "outputs": [],
   "source": []
  }
 ],
 "metadata": {
  "celltoolbar": "Edit Metadata",
  "kernelspec": {
   "display_name": "Python 3",
   "language": "python",
   "name": "python3"
  },
  "language_info": {
   "codemirror_mode": {
    "name": "ipython",
    "version": 3
   },
   "file_extension": ".py",
   "mimetype": "text/x-python",
   "name": "python",
   "nbconvert_exporter": "python",
   "pygments_lexer": "ipython3",
   "version": "3.6.9"
  },
  "latex_envs": {
   "LaTeX_envs_menu_present": true,
   "autoclose": false,
   "autocomplete": true,
   "bibliofile": "biblio.bib",
   "cite_by": "apalike",
   "current_citInitial": 1,
   "eqLabelWithNumbers": true,
   "eqNumInitial": 1,
   "hotkeys": {
    "equation": "Ctrl-E",
    "itemize": "Ctrl-I"
   },
   "labels_anchors": false,
   "latex_user_defs": false,
   "report_style_numbering": false,
   "user_envs_cfg": false
  }
 },
 "nbformat": 4,
 "nbformat_minor": 2
}
