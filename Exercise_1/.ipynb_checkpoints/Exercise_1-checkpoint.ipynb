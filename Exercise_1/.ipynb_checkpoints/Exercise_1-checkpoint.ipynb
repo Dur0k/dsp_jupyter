{
 "cells": [
  {
   "cell_type": "markdown",
   "metadata": {
    "deletable": false,
    "editable": false
   },
   "source": [
    "\n",
    "# Digital Signal Processing\n",
    "\n",
    "## Exercise 1\n",
    "\n",
    "### 1. Discrete Signals and Systems\n",
    "\n",
    "#### Exercise 1: function generator\n",
    "In this exercise a function generator shall be programmed which generates a signal of frequency $f_0$ at a sampling frequency of $f_A$. For a time continuous system it is common to use the angular frequency $\\omega_0 = 2 \\pi f_0$. Thus a time continuous sine signal is given by  \n",
    "\n",
    "$$ x_{\\text{sin,K}}(t) = \\text{sin}\\,(\\omega_0 \\cdot t) \\,.$$\n",
    "\n",
    "Within a time discrete system the sinusoidal signal is sampled with periods of the lenght $ T = 1/f_A$, such that the time $t = T \\cdot k$ can be written by the indices $k = 0,1,2,\\ldots.$ Therefore we obtain\n",
    "\n",
    "$$ x_{\\text{sin}}(k) = x_{\\text{sin,K}}(t)|_{t=kT} = \\text{sin}\\,(\\omega_0 \\cdot T \\cdot k) \\,.$$\n",
    "\n",
    "For time discrete systems it makes sense to introduce the normalized angular frequency $\\Omega_0$, which is unit- and dimensionless.\n",
    "\n",
    "\\begin{align*}\n",
    "    \\Omega_0 &:= \\omega_0 \\cdot T\\\\\n",
    "              &= 2\\pi f_0 \\cdot T\\\\\n",
    "              &= 2\\pi \\frac{f_0}{f_A}\n",
    "\\end{align*}\n",
    "\n",
    "This definition will be used throughout the further exercises, since it allows handling of digital systems without any limitation of the sampling frequency. Thus\n",
    "\n",
    "$$ x_{\\text{sin}}(k) = \\text{sin}\\,(\\Omega_0 \\cdot k) \\,.$$\n",
    "\n"
   ]
  },
  {
   "cell_type": "markdown",
   "metadata": {},
   "source": [
    "**a)** Create a vector x with 60 samples of a sinusoidal signal with the frequeny $f_0 = 400\\, \\text{Hz}$ at a sampling frequency of $8\\, \\text{kHz}$.\n",
    "\n",
    "In order to do so initialize a vector $\\text{k} = [0,1,\\ldots,59]$ which represents the time index of the sampled signal $x(k)$. Make use of numpy's $\\text{sin}()$-function.\n",
    "\n",
    "Display the signal with the help of the function $\\text{stem}()$. What is the period of the sampled signal?\n",
    "\n",
    "\n",
    "**b)** Change the frequency of the sampled sinusoidal signal to $f_0 = 960\\,\\text{Hz}$ and display the resulting signal again by using $\\text{stem}()$.\n",
    "\n",
    "What is the period of the sampled signal now?\n",
    "\n",
    "**Python Hints:**  \n",
    "```python\n",
    "k = np.arange(0,60,1)                                 # creating index vector,\n",
    "Omega0 = 2*np.pi* 400/8000                            # defining Omega,\n",
    "xsin = np.sin(Omega0*k)                               # elementwise calculation of the signal,\n",
    "plt.stem(k,xsin, use_line_collection=True)            # plotting xsin over its index vector k,\n",
    "plt.show()                                            # show the plot\n",
    "```"
   ]
  },
  {
   "cell_type": "code",
   "execution_count": 5,
   "metadata": {},
   "outputs": [],
   "source": [
    "import matplotlib.pyplot as plt\n",
    "import numpy as np\n",
    "# Your code goes here!"
   ]
  },
  {
   "cell_type": "code",
   "execution_count": 8,
   "metadata": {},
   "outputs": [],
   "source": [
    "# Solution"
   ]
  },
  {
   "cell_type": "markdown",
   "metadata": {},
   "source": []
  },
  {
   "cell_type": "code",
   "execution_count": 9,
   "metadata": {},
   "outputs": [],
   "source": [
    "# Solution"
   ]
  },
  {
   "cell_type": "markdown",
   "metadata": {},
   "source": [
    "#### Exercise 2: special series\n",
    "This exercise demonstrates some fundamental series for digital signal processing.  \n",
    "\n",
    "Generate an impulse series\n",
    "\n",
    "\\begin{equation*}\n",
    "x(k) = 1.2 \\cdot \\delta(k-4), \\;\\;\\;\\;\\; -5 \\leq k \\leq 10\n",
    "\\end{equation*}\n",
    "\n",
    "with \n",
    "\n",
    "\\begin{equation*}\n",
    "\\delta(k) := \\left\\{\n",
    "    \\begin{array}{l l}\t\n",
    "         1, & k=0\\\\\n",
    "         0, & k \\neq 0\n",
    "    \\end{array}\\right.\n",
    "\\end{equation*}\n",
    "and plot this series using the function $\\text{stem}()$.\n",
    "\n",
    "**Python Hints:**  \n",
    "```python\n",
    "k = np.arange(-5,11,1)                                # creating index vector k,\n",
    "x = np.zeros(16)                                      # creating a vector with 16 entries,\n",
    "x[4+5] = 1                                            # placing a dirac impulse dirac(k-4),\n",
    "x = x * 1.2                                           # scaling the vector x,\n",
    "plt.stem(k,xsin, use_line_collection=True)            # plotting vector x over the indices k,\n",
    "plt.show()                                            # show the plot\n",
    "```"
   ]
  },
  {
   "cell_type": "code",
   "execution_count": 10,
   "metadata": {},
   "outputs": [],
   "source": [
    "import matplotlib.pyplot as plt\n",
    "import numpy as np\n",
    "# Your code goes here!"
   ]
  },
  {
   "cell_type": "code",
   "execution_count": 11,
   "metadata": {},
   "outputs": [],
   "source": [
    "# Solution"
   ]
  },
  {
   "cell_type": "markdown",
   "metadata": {},
   "source": [
    "### 2. DFT\n",
    "\n",
    "#### Exercise 3: properties of the DFT\n",
    "Start with the series $x(k) = \\left\\{\n",
    "    \\begin{array}{l l}\t\n",
    "         k+j \\cdot (7-k),&  k=0\\ldots15\\\\\n",
    "         0,  & \\text{otherwise}\n",
    "    \\end{array}\\right.\\;.$\n",
    "    \n",
    "**a)** Calculate the DFT $X(n)$ using the function $\\text{fft}(x)$. Plot the real $\\text{Re}\\{X(n)\\}$ and imaginary $\\text{Im}\\{X(n)\\}$ part of $X(n)$.\n",
    "\n",
    "**b)** Plot the DFT of $\\text{Re}\\{x(k)\\}$ and $j\\text{Im}\\{x(k)\\}$ (again real and imaginary part). What kind of symmetries do the $\\text{DFT}\\{\\text{Re}\\{x(k)\\}\\}$ and $\\text{DFT}\\{j\\text{Im}\\{x(k)\\}\\}$ show?\n",
    "\n",
    "**c)** Produce a cyclic shift of $x(k)$ by $\\lambda = 4$ resp. 8 cycles: $x_1(k) = (x(k+\\lambda))_M$. What is the relation between $X_1(n) = \\text{DFT}\\{x_1(k)\\}$ and $X(n)$?\n",
    "\n",
    "**d)** Calculate the discrete fourier transform $X_2(n)$ of $x_2(k) = x(k) \\cdot \\text{exp}(-j2\\pi3k/16)$. What is the relation between $X_2(n)$ and $X(n)$?\n",
    "\n",
    "**Python Hints:**  \n",
    "```python\n",
    "X = np.fft.fft(x)                                      # calculate fft of x\n",
    "x.real                                                 # returns real part of x\n",
    "x.imag                                                 # returns imaginary part of x\n",
    "x0 = np.append(x,np.zeros(N))                          # adds a zero vector\n",
    "```"
   ]
  },
  {
   "cell_type": "code",
   "execution_count": null,
   "metadata": {},
   "outputs": [],
   "source": [
    "import matplotlib.pyplot as plt\n",
    "import numpy as np\n",
    "# Your code goes here!"
   ]
  },
  {
   "cell_type": "code",
   "execution_count": null,
   "metadata": {},
   "outputs": [],
   "source": [
    "# Solution"
   ]
  },
  {
   "cell_type": "markdown",
   "metadata": {},
   "source": [
    "#### Exercise 4: interpolation by zero padding\n",
    "Calculate the DFT of $x(k) = 1-\\text{cos}(2\\pi k/64)$ for $k=0\\ldots63$. Do common characteristics exist with the discrete fourier transform of the signal\n",
    "\\begin{equation*}\n",
    "x_0(k) = \\left\\{\n",
    "    \\begin{array}{l l}\t\n",
    "         x(k),&  k=0\\ldots63\\\\\n",
    "         0,  & k=64\\ldots127\n",
    "    \\end{array}\\right. \\;?\n",
    "\\end{equation*}\n",
    "\n",
    "**Python Hints:**  \n",
    "```python\n",
    "N = 64\n",
    "kk = np.arange(0,N,1)\n",
    "x = 1 - np.cos(2*np.pi*kk/N)                           # defines x(k),\n",
    "x0 = np.append(x,np.zeros(N))                          # adds a zero vector\n",
    "```"
   ]
  },
  {
   "cell_type": "code",
   "execution_count": 12,
   "metadata": {},
   "outputs": [],
   "source": [
    "import matplotlib.pyplot as plt\n",
    "import numpy as np\n",
    "# Your code goes here!"
   ]
  },
  {
   "cell_type": "code",
   "execution_count": null,
   "metadata": {},
   "outputs": [],
   "source": [
    "# Solution"
   ]
  }
 ],
 "metadata": {
  "celltoolbar": "Edit Metadata",
  "kernelspec": {
   "display_name": "Python 3",
   "language": "python",
   "name": "python3"
  },
  "language_info": {
   "codemirror_mode": {
    "name": "ipython",
    "version": 3
   },
   "file_extension": ".py",
   "mimetype": "text/x-python",
   "name": "python",
   "nbconvert_exporter": "python",
   "pygments_lexer": "ipython3",
   "version": "3.8.2"
  },
  "latex_envs": {
   "LaTeX_envs_menu_present": true,
   "autoclose": false,
   "autocomplete": true,
   "bibliofile": "biblio.bib",
   "cite_by": "apalike",
   "current_citInitial": 1,
   "eqLabelWithNumbers": true,
   "eqNumInitial": 1,
   "hotkeys": {
    "equation": "Ctrl-E",
    "itemize": "Ctrl-I"
   },
   "labels_anchors": false,
   "latex_user_defs": false,
   "report_style_numbering": false,
   "user_envs_cfg": false
  }
 },
 "nbformat": 4,
 "nbformat_minor": 2
}
