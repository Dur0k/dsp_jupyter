{
 "cells": [
  {
   "cell_type": "markdown",
   "metadata": {
    "deletable": false,
    "editable": false
   },
   "source": [
    "\n",
    "# Digital Signal Processing\n",
    "\n",
    "## Solutions: Exercise 1\n",
    "\n",
    "### Part 1: Discrete Signals and Systems\n",
    "\n",
    "#### Task 1: Function generator\n",
    "In this exercise a function generator shall be programmed which generates a discrete sinusoidal signal of frequency $f$ at a sampling frequency of $f_s$. For a time continuous system it is common to use the angular frequency $\\omega = 2 \\pi f$. Thus a time continuous sine signal is given by  \n",
    "\n",
    "$$ x(t) = \\text{sin}\\,(\\omega \\cdot t) \\,.$$\n",
    "\n",
    "Within a time discrete system the sinusoidal signal is sampled with periods of the length $ T_s = 1/f_s$, such that the time instances $t = T_s \\cdot k$ can be expressed by the indices $k = 0,1,2,\\ldots.$ Therefore we obtain the time discrete signal\n",
    "\n",
    "$$ x(k) = x(t)|_{t=kT_s} = \\text{sin}\\,(\\omega \\cdot T_s \\cdot k) \\,.$$\n",
    "\n",
    "For time discrete systems it makes sense to introduce the normalized angular frequency $\\Omega$, which is unit- and dimensionless.\n",
    "\n",
    "\\begin{align*}\n",
    "    \\Omega &:= \\omega \\cdot T_s\\\\\n",
    "              &= 2\\pi f \\cdot T_s\\\\\n",
    "              &= 2\\pi \\frac{f}{f_s}\n",
    "\\end{align*}\n",
    "\n",
    "This definition will be used throughout the further exercises, since it allows to design and elaborate digital systems independent on the sampling frequency. Thus\n",
    "\n",
    "$$ x(k) = \\text{sin}\\,(\\Omega \\cdot k) \\,.$$\n",
    "\n"
   ]
  },
  {
   "cell_type": "markdown",
   "metadata": {
    "deletable": false,
    "editable": false
   },
   "source": [
    "**a)** Create an array `x_a` with 60 samples of a sinusoidal signal with the frequency $f_a = 400\\, \\text{Hz}$ at a sampling frequency of $f_s = 8\\, \\text{kHz}$.\n",
    "\n",
    "In order to do so initialize an array $\\text{k} = [0,1,\\ldots,59]$ which represents the time index of the sampled signal $x_a(k)$. Make use of numpy's `sin()`-function.\n",
    "\n",
    "Display the signal with the help of the function `stem()` from the library matplotlib. What is the period of the sampled signal?\n",
    "\n",
    "\n",
    "**b)** Change the frequency of the sampled sinusoidal signal to $f_b = 960\\,\\text{Hz}$ and display the resulting discrete array `x_b` again by using `stem()`.\n",
    "\n",
    "What is the period of the sampled signal now?\n",
    "\n",
    "**Python Hints:**  \n",
    "```python\n",
    "k = np.arange(0,60,1)                                 # creating index vector,\n",
    "Omega_a = 2*np.pi* 400/8000                           # defining Omega,\n",
    "x_a = np.sin(Omega0*k)                                # elementwise calculation of the signal,\n",
    "plt.figure(1)                                         # create figure to plot in\n",
    "plt.stem(k,x_a, use_line_collection=True)             # plotting xsin over its index vector k,\n",
    "plt.show()                                            # show the plot\n",
    "```"
   ]
  },
  {
   "cell_type": "code",
   "execution_count": 1,
   "metadata": {},
   "outputs": [
    {
     "data": {
      "image/png": "[encoded data removed]",
      "text/plain": [
       "<Figure size 432x288 with 1 Axes>"
      ]
     },
     "metadata": {
      "needs_background": "light"
     },
     "output_type": "display_data"
    },
    {
     "data": {
      "image/png": "[encoded data removed]",
      "text/plain": [
       "<Figure size 432x288 with 1 Axes>"
      ]
     },
     "metadata": {
      "needs_background": "light"
     },
     "output_type": "display_data"
    }
   ],
   "source": [
    "import matplotlib.pyplot as plt\n",
    "import numpy as np\n",
    "# Your code goes here!\n",
    "# Variable names for Solution tester:\n",
    "# a) Omega_a, k, x_a\n",
    "# b) Omega_b, k, x_b\n",
    "\n",
    "f_s = 8000\n",
    "\n",
    "f_a = 400\n",
    "f_b = 960\n",
    "\n",
    "Omega_a = 2*np.pi*f_a/f_s\n",
    "Omega_b = 2*np.pi*f_b/f_s\n",
    "\n",
    "k = np.arange(0,60,1)\n",
    "\n",
    "x_a = np.sin(Omega_a*k)\n",
    "x_b = np.sin(Omega_b*k)\n",
    "plt.figure(1)\n",
    "plt.stem(k,x_a,use_line_collection=True)\n",
    "plt.figure(2)\n",
    "plt.stem(k,x_b,use_line_collection=True)\n",
    "plt.show()\n"
   ]
  },
  {
   "cell_type": "code",
   "execution_count": 2,
   "metadata": {
    "deletable": false,
    "editable": false
   },
   "outputs": [
    {
     "name": "stdout",
     "output_type": "stream",
     "text": [
      "Index vector correct\n",
      "Correct length for Omega_a.\n",
      "Correct length for x_a.\n",
      "Correct length for Omega_b.\n",
      "Correct length for x_b.\n"
     ]
    }
   ],
   "source": [
    "# Solution tester\n",
    "# This cell will check if your variables and vectors are correct.\n",
    "import solution_tester\n",
    "solution_tester.exercise1(k, x_a, x_b, Omega_a, Omega_b)"
   ]
  },
  {
   "cell_type": "markdown",
   "metadata": {
    "deletable": false,
    "editable": false
   },
   "source": [
    "#### Task 2: special series\n",
    "This exercise demonstrates a fundamental series for digital signal processing.  \n",
    "\n",
    "Generate a delayed impulse series with amplitude $1.2$:\n",
    "\n",
    "\\begin{equation*}\n",
    "x(k) = 1.2 \\cdot \\delta(k-4), \\;\\;\\;\\;\\; -5 \\leq k \\leq 10\n",
    "\\end{equation*}\n",
    "\n",
    "with \n",
    "\n",
    "\\begin{equation*}\n",
    "\\delta(k) := \\left\\{\n",
    "    \\begin{array}{l l}\t\n",
    "         1, & k=0\\\\\n",
    "         0, & k \\neq 0\n",
    "    \\end{array}\\right.\n",
    "\\end{equation*}\n",
    "denoting the dirac series and plot this series using the function `stem()`.\n",
    "\n",
    "**Python Hints:**  \n",
    "```python\n",
    "k = np.arange(-5,11,1)                                # creating index vector k,\n",
    "x = np.zeros(16)                                      # creating a vector with 16 entries,\n",
    "x[4+5] = 1                                            # placing a dirac impulse dirac(k-4),\n",
    "x = x * 1.2                                           # scaling the vector x,\n",
    "plt.stem(k,x, use_line_collection=True)               # plotting vector x over the indices k,\n",
    "plt.show()                                            # show the plot\n",
    "```"
   ]
  },
  {
   "cell_type": "code",
   "execution_count": 3,
   "metadata": {},
   "outputs": [
    {
     "data": {
      "text/plain": [
       "<StemContainer object of 3 artists>"
      ]
     },
     "execution_count": 3,
     "metadata": {},
     "output_type": "execute_result"
    },
    {
     "data": {
      "image/png": "[encoded data removed]",
      "text/plain": [
       "<Figure size 432x288 with 1 Axes>"
      ]
     },
     "metadata": {
      "needs_background": "light"
     },
     "output_type": "display_data"
    }
   ],
   "source": [
    "import matplotlib.pyplot as plt\n",
    "import numpy as np\n",
    "# Your code goes here!\n",
    "# Variable names for Solution tester:\n",
    "# k, x\n",
    "\n",
    "k = np.arange(-5,11,1)\n",
    "x = np.zeros(16)\n",
    "x[4+5] = 1\n",
    "x = x*1.2\n",
    "plt.stem(k,x, use_line_collection=True)"
   ]
  },
  {
   "cell_type": "code",
   "execution_count": 4,
   "metadata": {
    "deletable": false,
    "editable": false
   },
   "outputs": [
    {
     "name": "stdout",
     "output_type": "stream",
     "text": [
      "Index vector correct\n",
      "Correct length for x.\n"
     ]
    }
   ],
   "source": [
    "# Solution tester\n",
    "# This cell will check if your variables and vectors are correct.\n",
    "import solution_tester\n",
    "solution_tester.exercise2(k, x)"
   ]
  },
  {
   "cell_type": "markdown",
   "metadata": {
    "deletable": false,
    "editable": false
   },
   "source": [
    "### Part 2: DFT\n",
    "\n",
    "#### Task 1: properties of the DFT\n",
    "Start with the same series `x_a` as in Task 1 of first part. You will have to generate it here again.\n",
    "    \n",
    "**a)** Calculate the DFT $X_a(n)$ using the function `np.fft.fft(x_a)`. Plot the real $\\text{Re}\\{X_a(n)\\}$ and imaginary $\\text{Im}\\{X_a(n)\\}$ part of $X_a(n)$.\n",
    "\n",
    "**b)** Produce a cyclic shift of $x_a(k)$ by $\\lambda = 4$ resp. 8 cycles: $x_b(k) = (x_a(k+\\lambda))_M$. What is the relation between $X_b(n) = \\text{DFT}\\{x_b(k)\\}$ and $X_a(n)$?\n",
    "\n",
    "**c)** Calculate the discrete fourier transform $X_c(n)$ of $x_c(k) = x_a(k) \\cdot \\text{exp}(j2\\pi\\frac{k}{16})$. What is the relation between $X_c(n)$ and $X_a(n)$?\n",
    "\n",
    "**Python Hints:**  \n",
    "```python\n",
    "X = np.fft.fft(x)                                     # calculate fft/dft of x\n",
    "x.real                                                # returns real part of x\n",
    "x.imag                                                # returns imaginary part of x\n",
    "np.abs(x)                                             # returns absolute value of x\n",
    "np.roll(x,s)                                          # perform circular shift by s cycles on x \n",
    "x_c = x_a*np.exp(2*1j*np.pi/16*k)                     # create modulated version of x_a acc to c)\n",
    "plt.figure(1)                                         # create figure to plot in\n",
    "plt.stem(k,x.real, use_line_collection=True)          # stem plot of real part of x\n",
    "plt.stem(k,x.imag,'r','ro', use_line_collection=True) # second stem of imag part plot in same figure, color: red\n",
    "plt.figure(2)                                         # create second figure ...\n",
    "```"
   ]
  },
  {
   "cell_type": "code",
   "execution_count": 7,
   "metadata": {},
   "outputs": [
    {
     "data": {
      "text/plain": [
       "<StemContainer object of 3 artists>"
      ]
     },
     "execution_count": 7,
     "metadata": {},
     "output_type": "execute_result"
    },
    {
     "data": {
      "image/png": "[encoded data removed]",
      "text/plain": [
       "<Figure size 432x288 with 1 Axes>"
      ]
     },
     "metadata": {
      "needs_background": "light"
     },
     "output_type": "display_data"
    },
    {
     "data": {
      "image/png": "[encoded data removed]",
      "text/plain": [
       "<Figure size 432x288 with 1 Axes>"
      ]
     },
     "metadata": {
      "needs_background": "light"
     },
     "output_type": "display_data"
    },
    {
     "data": {
      "image/png": "[encoded data removed]",
      "text/plain": [
       "<Figure size 432x288 with 1 Axes>"
      ]
     },
     "metadata": {
      "needs_background": "light"
     },
     "output_type": "display_data"
    }
   ],
   "source": [
    "import matplotlib.pyplot as plt\n",
    "import numpy as np\n",
    "# Your code goes here!\n",
    "\n",
    "\n",
    "f_s = 8000\n",
    "\n",
    "f_a = 400\n",
    "\n",
    "Omega_a = 2*np.pi*f_a/f_s\n",
    "\n",
    "k = np.arange(0,15,1)\n",
    "x_a = np.sin(Omega_a*k)#k+1j*(7-k)\n",
    "\n",
    "x_b = np.roll(x_a,4)\n",
    "#a)\n",
    "plt.figure(1)\n",
    "plt.stem(k,np.fft.fft(x_a).real,use_line_collection=True)\n",
    "plt.stem(k,np.fft.fft(x_a).imag,'r','ro',use_line_collection=True)\n",
    "#b)\n",
    "plt.figure(2)\n",
    "plt.stem(k,np.fft.fft(x_b).real,use_line_collection=True)\n",
    "plt.stem(k,np.fft.fft(x_b).imag,'r','ro',use_line_collection=True)\n",
    "#c)\n",
    "x_c = x_a*np.exp(2*1j*np.pi/16*k)\n",
    "plt.figure(3)\n",
    "plt.stem(k,np.absolute(np.fft.fft(x_c)),use_line_collection=True)\n",
    "plt.stem(k,np.fft.fft(x_c).imag,'r','ro',use_line_collection=True)\n",
    "\n"
   ]
  },
  {
   "cell_type": "markdown",
   "metadata": {
    "deletable": false,
    "editable": false
   },
   "source": [
    "#### Task 2: interpolation by zero padding\n",
    "Calculate the DFT of $x(k) = 1-\\text{cos}(2\\pi k \\frac{8}{64})$ for $k=0\\ldots63$. Do common characteristics exist with the discrete fourier transform of the signal\n",
    "\n",
    "\\begin{equation*}\n",
    "x_0(k) = \\left\\{\n",
    "    \\begin{array}{l l}\t\n",
    "         x(k),&  k=0\\ldots63\\\\\n",
    "         0,  & k=64\\ldots127\n",
    "    \\end{array}\\right. \\;?\n",
    "\\end{equation*}\n",
    "\n",
    "**Python Hints:**  \n",
    "```python\n",
    "\n",
    "k = np.arange(0,64,1)\n",
    "x = 1 - np.cos(2*np.pi*k*8/64)                         # defines x(k),\n",
    "x0 = np.append(x,np.zeros(64))                         # zero pad x with 64 zeros\n",
    "```"
   ]
  },
  {
   "cell_type": "code",
   "execution_count": 6,
   "metadata": {},
   "outputs": [
    {
     "name": "stderr",
     "output_type": "stream",
     "text": [
      "/usr/local/lib/python3.6/dist-packages/ipykernel_launcher.py:12: UserWarning: In Matplotlib 3.3 individual lines on a stem plot will be added as a LineCollection instead of individual lines. This significantly improves the performance of a stem plot. To remove this warning and switch to the new behaviour, set the \"use_line_collection\" keyword argument to True.\n",
      "  if sys.path[0] == '':\n",
      "/usr/local/lib/python3.6/dist-packages/ipykernel_launcher.py:14: UserWarning: In Matplotlib 3.3 individual lines on a stem plot will be added as a LineCollection instead of individual lines. This significantly improves the performance of a stem plot. To remove this warning and switch to the new behaviour, set the \"use_line_collection\" keyword argument to True.\n",
      "  \n"
     ]
    },
    {
     "data": {
      "text/plain": [
       "<StemContainer object of 3 artists>"
      ]
     },
     "execution_count": 6,
     "metadata": {},
     "output_type": "execute_result"
    },
    {
     "data": {
      "image/png": "[encoded data removed]",
      "text/plain": [
       "<Figure size 432x288 with 1 Axes>"
      ]
     },
     "metadata": {
      "needs_background": "light"
     },
     "output_type": "display_data"
    },
    {
     "data": {
      "image/png": "[encoded data removed]",
      "text/plain": [
       "<Figure size 432x288 with 1 Axes>"
      ]
     },
     "metadata": {
      "needs_background": "light"
     },
     "output_type": "display_data"
    }
   ],
   "source": [
    "import matplotlib.pyplot as plt\n",
    "import numpy as np\n",
    "# Your code goes here!\n",
    "\n",
    "\n",
    "k = np.arange(0,64,1)\n",
    "kk = np.arange(0,128,1)\n",
    "x = 1 - np.cos(16*np.pi*k/64)\n",
    "x0 = np.append(x,np.zeros(64))\n",
    "\n",
    "plt.figure(1)\n",
    "plt.stem(k,np.abs(np.fft.fft(x)))\n",
    "plt.figure(2)\n",
    "plt.stem(kk,np.abs(np.fft.fft(x0)))\n"
   ]
  },
  {
   "cell_type": "code",
   "execution_count": null,
   "metadata": {},
   "outputs": [],
   "source": []
  },
  {
   "cell_type": "code",
   "execution_count": null,
   "metadata": {},
   "outputs": [],
   "source": []
  }
 ],
 "metadata": {
  "celltoolbar": "Edit Metadata",
  "kernelspec": {
   "display_name": "Python 3",
   "language": "python",
   "name": "python3"
  },
  "language_info": {
   "codemirror_mode": {
    "name": "ipython",
    "version": 3
   },
   "file_extension": ".py",
   "mimetype": "text/x-python",
   "name": "python",
   "nbconvert_exporter": "python",
   "pygments_lexer": "ipython3",
   "version": "3.6.9"
  },
  "latex_envs": {
   "LaTeX_envs_menu_present": true,
   "autoclose": false,
   "autocomplete": true,
   "bibliofile": "biblio.bib",
   "cite_by": "apalike",
   "current_citInitial": 1,
   "eqLabelWithNumbers": true,
   "eqNumInitial": 1,
   "hotkeys": {
    "equation": "Ctrl-E",
    "itemize": "Ctrl-I"
   },
   "labels_anchors": false,
   "latex_user_defs": false,
   "report_style_numbering": false,
   "user_envs_cfg": false
  }
 },
 "nbformat": 4,
 "nbformat_minor": 2
}
