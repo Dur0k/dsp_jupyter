{
 "cells": [
  {
   "cell_type": "markdown",
   "metadata": {},
   "source": [
    "# Digital Signal Processing\n",
    "\n",
    "## Solutions: Exercise4\n",
    "\n",
    "### Part 1: Non-Recursive Filters\n",
    "\n",
    "#### Task 1: window functions\n",
    "**a)** The following figures show the most used window functions like rectangular, Hann, Hamming, Blackman and Bartlett window for a length $m=42$. On the right hand side are the respective fourier transforms for the filter length $m=21$ and $m=42$."
   ]
  },
  {
   "cell_type": "code",
   "execution_count": null,
   "metadata": {},
   "outputs": [],
   "source": []
  },
  {
   "cell_type": "markdown",
   "metadata": {},
   "source": [
    "The time domain representation of each window function shows the symmetry, which guarantees a linear phase. If we evaluate the fourier-transform of the window functions to analyze the filter behavior, principally we could come out with a statement, with a rising order $m$, the spectrum is proportionally buckling. Therefore, the pass band[1] $\\Omega < \\Omega_s$ is reduced accordingly with an increment from $m=21$ to $m=42$. The stop band behavior ($\\Omega \\rightarrow \\pi$) validates that it is better if the filter order is higher. If the attenuation of the first shot is considered, it shows an attenuation independent from $m$ w.g. $a_N \\approx 57 \\, \\textrm{dB}$, by Blackman window.  \n",
    "A comparison between the windows verifies a compromise between the achievable pass band and the attenuation of the first overshot. While the rectangular window has the smallest pass band of $2\\pi/(m+1)$ and the lowest attenuation of $a_N \\approx 13.3 \\, \\textrm{dB}$, the Blackman window has the widest pass band of $6\\pi/(m+1)$, but at the same time it also has the highest attenuation of the first overshot.  \n",
    "More explanation to this subject can be found in chapter 5 and 8.\n",
    "\n",
    "**b)** The following figures show the time domain plots and the Fourier transform of the Kaiser window for values $\\beta = 0, 3, 6$ with a window length of $m=21$. For $\\beta=0$, the Kaiser window corresponds to the rectangular window and has therefore the smallest pass band for this parameter option, but also the lowest first overshot attenuation. An increment of $\\beta$ at a constant filter order improves the attenuation behavior and at the same time, the pass band would be wider. With the help of the free parameter $\\beta$, a compromise between the pass band and the attenuation behavior could be found. A complete description of the Kaiser window is shown in table 5.4.\n",
    "\n",
    "[1]: pass band means the area until the first zero of the spectra."
   ]
  },
  {
   "cell_type": "code",
   "execution_count": null,
   "metadata": {},
   "outputs": [],
   "source": []
  },
  {
   "cell_type": "code",
   "execution_count": null,
   "metadata": {},
   "outputs": [],
   "source": []
  },
  {
   "cell_type": "markdown",
   "metadata": {},
   "source": [
    "#### Task 2: design of non recursive filters using windowing techniques\n",
    "**a)** In the following figures, the amplitude responnses of each filter with order $m=50$ are plotted.\n",
    "\n",
    "The figures show the normalized cut-off frequency of `Wn=0.4`, which is used for all filter designs. A comparison between the amplitude responses shows the problem of finding a compromise between the highest first shot attenuation possible and the smallest possible pass band. If we compare the Kaiser- against the Blackman-window, it is an advantage to know the free parameter $\\beta$. At almost similar steepness of the slope, the Kaiser window has a small pass-band, ($\\Omega_S/\\pi \\approx 0.5$ against $\\Omega_S/\\pi \\approx 0.55$) and at the same time a better first overshot ($a_N \\approx 83 \\, \\textrm{dB}$ against $a_N \\approx 75 \\, \\textrm{dB}$).\n",
    "\n"
   ]
  },
  {
   "cell_type": "code",
   "execution_count": null,
   "metadata": {},
   "outputs": [],
   "source": []
  },
  {
   "cell_type": "markdown",
   "metadata": {},
   "source": [
    "**b)** The portrayed trend shows the amplitude resonse of a high-pass with order $m=33$ and a normalized frequency limit of 0.4. A Hamming-window is used here.\n",
    "\n",
    "When designing a high-pass with the Python-function `fir1()`, Python generates following warning:\n",
    "`For highpass and bandstop filters, the order must be even.\n",
    "Order is being increased by 1.`  \n",
    "The `fir1()` function designs filter from type I or II, depending on if the order is even or odd.  \n",
    "When the order is odd (type II), the frequency response must have a zero at the Nyquist Frequency $\\Omega/\\pi=1$, which contradicts with the demanded high-pass behavior. Therefore, Python increases the filter order automatically (type I).\n"
   ]
  },
  {
   "cell_type": "code",
   "execution_count": null,
   "metadata": {},
   "outputs": [],
   "source": []
  },
  {
   "cell_type": "markdown",
   "metadata": {},
   "source": [
    "**c)** If the group delay is calculated using the function `grpdelay()`, we get the following plot against the normalized frequency for the designed low-pass in task **2.a** with $m=50$ (window function: Hamming):\n",
    "\n",
    "The plot shows a constant group delay and clarifies the demanded linearity of a system."
   ]
  },
  {
   "cell_type": "code",
   "execution_count": null,
   "metadata": {},
   "outputs": [],
   "source": []
  },
  {
   "cell_type": "markdown",
   "metadata": {},
   "source": [
    "#### Task 3: remez design (Chebyshev-approximation)\n",
    "\n",
    "**a)** Both portrayed amplitude responses are examples for the design of lienar low-passes using the Chebyshev-approximation in pass-band and stop-band. The design is done with the help of the \\textit{remez-design}, where the intervals [0 0.3] and [0.5 1] are fixed. The filter orders are $m=9$ and $m=10$. \n",
    "\n",
    "Both plots verify the uniform approximation in pass-band and stop band. The number of the extrema, which touch the tolerance scheme, including the boundary values is $\\lfloor m/2 \\rfloor + 2$ with $m=9,10$ in both of the amplitude responses."
   ]
  },
  {
   "cell_type": "code",
   "execution_count": null,
   "metadata": {},
   "outputs": [],
   "source": []
  },
  {
   "cell_type": "markdown",
   "metadata": {},
   "source": [
    "**b)** If we assign the stop band a larger weight value than the pass-band, e.g. factor four, the frequency responses are as follows for the same boundary condition as in task **3.a**:\n",
    "\n",
    "\n",
    "A comparison with the task **3.a** clarifies the influence of the weight on the stop-band and the pass-band."
   ]
  },
  {
   "cell_type": "code",
   "execution_count": null,
   "metadata": {},
   "outputs": [],
   "source": []
  },
  {
   "cell_type": "markdown",
   "metadata": {},
   "source": [
    "**c)** Because of the given frequency bands, frequency responses and weight factors, the design of selective systems is very easily possible using the remez-design. The following example shows the design of a low-pass-band-pass-combination specified in the exercise:"
   ]
  },
  {
   "cell_type": "code",
   "execution_count": null,
   "metadata": {},
   "outputs": [],
   "source": []
  },
  {
   "cell_type": "markdown",
   "metadata": {},
   "source": [
    "#### Task 4: design of a differentiator\n",
    "**a)** The problem of this exercise is to design a differentiator, whose ideal frequency response is $H(e^{j\\Omega}) = j\\Omega$, within the interval $[0,\\pi]$ using Chebyshevf-Approximation. With the help of the remez-design (Python-function: `firpm()`), which is described in task **3**, we get the following amplitude responses and impulse responses for the filter order $m=21$ and $m=22$:\n",
    "\n",
    "In the system considered here, it describes linear filter of type I and type III."
   ]
  },
  {
   "cell_type": "code",
   "execution_count": null,
   "metadata": {},
   "outputs": [],
   "source": []
  },
  {
   "cell_type": "markdown",
   "metadata": {},
   "source": [
    "**b)** The impulse response of a non causal and band limited _time continuous_ differentiator is a point symmetric function (5.4.6). In terms of an _impulse variance_ design, see paragraph 5.4.1, it is therefore necessary to design filter of type II resp. type IV. If we use the optional parameter `'d'` when calling the function `firpm`, we get the following plots for the amplitude responses and impulse responses for $m=21$ and $m=22$:\n",
    "\n",
    "A comparison of both amplitude responses clarifies the consideration of the four possible alternatives of a linear non-recursive system. Even though a higher but even order ($m=22$) is used, the approximation of the ideal frequency response is worse than the lower, odd filter order ($m=21$) because of the zero at $\\Omega=\\pi$.\n"
   ]
  },
  {
   "cell_type": "code",
   "execution_count": null,
   "metadata": {},
   "outputs": [],
   "source": []
  }
 ],
 "metadata": {
  "celltoolbar": "Edit Metadata",
  "kernelspec": {
   "display_name": "Python 3",
   "language": "python",
   "name": "python3"
  },
  "language_info": {
   "codemirror_mode": {
    "name": "ipython",
    "version": 3
   },
   "file_extension": ".py",
   "mimetype": "text/x-python",
   "name": "python",
   "nbconvert_exporter": "python",
   "pygments_lexer": "ipython3",
   "version": "3.8.2"
  },
  "latex_envs": {
   "LaTeX_envs_menu_present": true,
   "autoclose": false,
   "autocomplete": true,
   "bibliofile": "biblio.bib",
   "cite_by": "apalike",
   "current_citInitial": 1,
   "eqLabelWithNumbers": true,
   "eqNumInitial": 1,
   "hotkeys": {
    "equation": "Ctrl-E",
    "itemize": "Ctrl-I"
   },
   "labels_anchors": false,
   "latex_user_defs": false,
   "report_style_numbering": false,
   "user_envs_cfg": false
  }
 },
 "nbformat": 4,
 "nbformat_minor": 2
}
